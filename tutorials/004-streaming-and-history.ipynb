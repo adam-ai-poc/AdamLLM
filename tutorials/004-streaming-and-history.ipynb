{
 "cells": [
  {
   "cell_type": "markdown",
   "metadata": {},
   "source": [
    "## Streaming"
   ]
  },
  {
   "cell_type": "markdown",
   "metadata": {},
   "source": [
    "Streaming is critical in making applications based on LLMs feel responsive to end-users. Streaming yields the token output of the chat model before it finishes. With streaming, user can see the outputs earlier hence improving the user experience."
   ]
  },
  {
   "cell_type": "code",
   "execution_count": 1,
   "metadata": {},
   "outputs": [],
   "source": [
    "import sys\n",
    "sys.path.append(\"..\")"
   ]
  },
  {
   "cell_type": "code",
   "execution_count": 2,
   "metadata": {},
   "outputs": [
    {
     "name": "stderr",
     "output_type": "stream",
     "text": [
      "USER_AGENT environment variable not set, consider setting it to identify your requests.\n"
     ]
    },
    {
     "name": "stdout",
     "output_type": "stream",
     "text": [
      "Loading from existing Chromadb located at: ./db/chroma\n",
      "Vectordb: <rag.ingest.vectordb.ChromaDB object at 0x000002056EE631D0> Initialized.\n",
      "Vector Store Retriever: tags=['Chroma', 'OpenAIEmbeddings'] vectorstore=<langchain_chroma.vectorstores.Chroma object at 0x000002056EF13890> search_kwargs={'k': 6} created\n",
      "Retriever: <rag.retrieve.VectorStoreRetriever object at 0x000002055C3A6C90> Initialized.\n",
      "System prompt initialized\n",
      "LLM: gpt-3.5-turbo-0125 Initialized.\n"
     ]
    }
   ],
   "source": [
    "from rag.ragchain import RagChain\n",
    "from rag.utils import read_all_config\n",
    "retrieval_cfg = read_all_config(\"../configs/rag.yaml\")\n",
    "ragchain = RagChain(**retrieval_cfg, debug=False)"
   ]
  },
  {
   "cell_type": "code",
   "execution_count": 3,
   "metadata": {},
   "outputs": [
    {
     "name": "stdout",
     "output_type": "stream",
     "text": [
      "The CGPA mentioned in the context is 4.00."
     ]
    }
   ],
   "source": [
    "for chunk in ragchain.stream(\"cgpa\"):\n",
    "    print(chunk, end = \"\", flush=True)"
   ]
  },
  {
   "cell_type": "code",
   "execution_count": null,
   "metadata": {},
   "outputs": [],
   "source": []
  }
 ],
 "metadata": {
  "kernelspec": {
   "display_name": "adamlab",
   "language": "python",
   "name": "python3"
  },
  "language_info": {
   "codemirror_mode": {
    "name": "ipython",
    "version": 3
   },
   "file_extension": ".py",
   "mimetype": "text/x-python",
   "name": "python",
   "nbconvert_exporter": "python",
   "pygments_lexer": "ipython3",
   "version": "3.11.9"
  }
 },
 "nbformat": 4,
 "nbformat_minor": 2
}
