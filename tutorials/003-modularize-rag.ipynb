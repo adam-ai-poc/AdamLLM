{
 "cells": [
  {
   "cell_type": "markdown",
   "metadata": {},
   "source": [
    "## Modularizing components of the ingestion pipeline"
   ]
  },
  {
   "cell_type": "markdown",
   "metadata": {},
   "source": [
    "In Object Orienteed Programming, we attempt to modularize components into reusable components using classes and methods. For our lab, we created three components in the ingestion pipline. Namely, the vectordb, loader and chunking component. Each components will then be composed using the AdamIngest class in ingest.py to create the pipeline. As clean coders, we allow developers to pass by values or by keyword arguments as well as component configuration in the form of dictionaries to facilitate faster experimentation."
   ]
  },
  {
   "cell_type": "markdown",
   "metadata": {},
   "source": [
    "### Ingest with Values"
   ]
  },
  {
   "cell_type": "code",
   "execution_count": 1,
   "metadata": {},
   "outputs": [],
   "source": [
    "import sys\n",
    "sys.path.append(\"..\")"
   ]
  },
  {
   "cell_type": "code",
   "execution_count": 2,
   "metadata": {},
   "outputs": [
    {
     "name": "stderr",
     "output_type": "stream",
     "text": [
      "USER_AGENT environment variable not set, consider setting it to identify your requests.\n"
     ]
    },
    {
     "name": "stdout",
     "output_type": "stream",
     "text": [
      "No Chromadb located at: ./db/chroma, initializing new.\n",
      "\n",
      "            ==========================================\n",
      "            Vector database configurations\n",
      "            ------------------------------------------\n",
      "            Vector Database: Chroma\n",
      "            Embedding model: text-embedding-3-small\n",
      "            ==========================================\n",
      "        \n",
      "\n",
      "            ==========================================\n",
      "            Loader configurations\n",
      "            ------------------------------------------\n",
      "            Loader:  AdamPyPDFLoader\n",
      "            Extract images: {'extract_images': False}\n",
      "            ==========================================\n",
      "            \n",
      "\n",
      "            ==========================================\n",
      "            Chunker configurations\n",
      "            ------------------------------------------\n",
      "            Chunker:  RecursiveCharacterTextSplitter\n",
      "            Chunk Size: 1000\n",
      "            Chunk Overlap: 0\n",
      "            ==========================================\n",
      "            \n",
      "Vectordb: <rag.ingest.vectordb.ChromaDB object at 0x0000024255BAC510> Initialized.\n",
      "Loader: <rag.ingest.load.PDFLoader object at 0x00000242686CE190> Initialized.\n",
      "Chunker: <rag.ingest.chunk.RecursiveChunker object at 0x0000024268752290> Initialized.\n",
      "...Chunking...\n",
      "Number of chunks:  6\n",
      "Chunks:  [Document(page_content='Data Scientist\\nDriven by a genuine passion in Artificial Intelligence, I bring a solid academic\\nfoundation with a CGPA of 4.00. As an aspiring Data Scientist, I am eager to\\nlearn and contribute my expertise in Machine Learning and Artificial\\nIntelligence to your organization. With focus of creating value through cutting-\\nedge technology, I specialize in the dynamic realm of Computer Vision, Data\\nScience and Deep Learning. Tay Xue Hao\\nPersonal Details\\nNotable Projects012-462 8936\\ntayxhwork@gmail.com\\n16, Lorong 42, Taman Petani\\nJaya, 08000 Sungai Petani,\\nKedah.\\nhttps://www.linkedin.com/in/t\\nay-xue-hao/EmailPhone\\nLinkedInAddress\\nFacial Emotion Recognition using\\nConvolutional Neural Network (Uni)\\nAutomated Cryptocurrency Trading\\nusing Deep Reinforcement Learning\\n(FYP)\\nMachine Failure Prediction (Uni)\\nEnd to end Customer Churn Analysis\\n(Personal)\\nLLM Fine-Tuning on Mental Health\\nDataset (Freelance)\\nMBTI Classification with Semi-\\nsupervised Learning (Freelance)Personal Protection Equipment', metadata={'source': 'C:\\\\Users\\\\USER\\\\adamxht\\\\AdamLab\\\\docs\\\\TayXueHao-Resume.pdf', 'page': 0}), Document(page_content='Detection (Jabil)\\nAOI Component Defect Detection (Jabil) \\nAXI Void/Bubble Detection (Jabil)\\nBuzzer Oritentation Detection (Jabil)https://github.com/XHTayGitHubQualifications\\n2019 - 2021 Diploma in Computer Science2021 - 2023 Bachelor of Computer Science in Data Science\\n- Tunku Abdul Rahman University College, Kuala Lumpur, Malaysia\\nAwarded a Diploma in Computer Science in May 2021. Relevant\\ncourses included Object-Oriented Programming, Database\\nDevelopment and Applications, Discrete Mathematics, and Statistics.\\nAchieved CGPA is 3.93.- Tunku Abdul Rahman University College, Kuala Lumpur, Malaysia\\nGraduated in August 2023 with a Bachelor’s Degree in Computer\\nScience, Majoring in Data Science with a CGPA of 4.00. Relevant\\nCourses include Data Science, Statistics, Artificial Intelligence, Machine\\nLearning, Image Processing and Natural Language Processing.\\nAwards\\nRegional Insurtech Data Hackathon\\nTARUC x SENHENG Talent Development ProgramAugust 2022September 2022', metadata={'source': 'C:\\\\Users\\\\USER\\\\adamxht\\\\AdamLab\\\\docs\\\\TayXueHao-Resume.pdf', 'page': 0}), Document(page_content='Represented the school as the key player and leader in the Hackathon,\\nwhich included teams from the South East Asian Region on September\\n9-11, 2022. Developed a recommendation engine using both text-\\nbased data as well as images from social media. Major achievement\\nwas successfully developing an image captioning algorithm that can\\ngenerate texts from images.\\nAwarded with The Best Team Award and RM500 worth of S-Coins on\\n22 August 2022. Collaborated and conquered a plethora of\\nchallenges which tested problem solving, teamwork, and\\ncommunication skills, such as public speaking, roleplaying as\\nentrepreneurs to generate revenue, and solving conundrums.https://www.fiverr.com/draventFiverr', metadata={'source': 'C:\\\\Users\\\\USER\\\\adamxht\\\\AdamLab\\\\docs\\\\TayXueHao-Resume.pdf', 'page': 0}), Document(page_content='Completed 3 different Natural language Processing gigs:\\n1. Fine-Tuning Large Language Models (LLM) with mental health  \\nq&a dataset.\\n2. Format data from raw text to JSON to prepare for fine-tuning.\\n3. Semi-supervised learning with Twitter comment dataset to\\npredict users’ MBTI personality with 20:80 labeled and unlabled\\ndata.\\nCore Skills\\nExperienced : \\nPython / Java / C++\\nMachine Learning / Deep Learning\\nData Analytics / Data Science\\nScikit Learn\\nPytorch / Tensorflow\\nPandas / Numpy\\nMatplotlib / Tableau\\nSQL / AWS S3\\nReinforcement Learning \\nGithub/Git\\nLearning :\\nDeployment / CICD pipelines\\nDocker / Flask / RestfulAPI\\nAWS ECR / EC2 / CodePipeline /\\nSagemaker\\nCommunication / Creativity\\nGenerative AI - Stable Diffusion\\nLanguageInterests\\nReading\\nGym Workout \\nSwimming\\nArtificial IntelligenceJabil Global Business Center in Bayan Lepas, PenangWork Experience\\nData Science Intern Specializing in Computer VisionFebruary 2023 - July 2023\\nPlayed a pivotal role in the development of 5 projects :', metadata={'source': 'C:\\\\Users\\\\USER\\\\adamxht\\\\AdamLab\\\\docs\\\\TayXueHao-Resume.pdf', 'page': 1}), Document(page_content='1. Personal Protection Equipment Detection\\nDeveloped Yolo based warning system for onsite welding workers’ safety\\ngear detection.\\n2. X-ray Void Detection \\nLed project to develop custom segmentation algorithm with Yolo, OpenCV\\nand regression analysis for PCB void detection.\\n3. AOI Machine Component Defect Detection\\nTrained and evaluated model backbones for 20k+ componenet defect\\nclassification, devised component image clustering for performance boost.\\n4. USB and PCB Defect Detection\\nDeveloped Yolo based defect detection for USB and PCB quality checks.\\n5. Buzzer Orientation Detection\\nDeveloped Yolo based model for buzzer orientation verification.September 2023 - December 2023\\nData Science Freelancer on Fiverr\\nPrincipal Data Scientist, Jabil\\nPhone: +13 817003381\\nEmail : Rita_Chen@jabil.comProgramme Leader, Tunku\\nAbdul Rahman University of\\nManagement and Technology\\nPhone: +60 12-315 6972\\nEmail : siewmooi@tarc.edu.myReferences\\nRita Chen Dr. Sandy Lim Siew MooiJanuary 2023 - Present', metadata={'source': 'C:\\\\Users\\\\USER\\\\adamxht\\\\AdamLab\\\\docs\\\\TayXueHao-Resume.pdf', 'page': 1}), Document(page_content='Intel Corporation\\nGraduate Trainee Focusing on AI Engineering\\nDevelop LLM RAG for internal data 1.\\nAI Compiler, model optimization. 2.\\nUpdated in April’24ExcellentExcellent\\nGood', metadata={'source': 'C:\\\\Users\\\\USER\\\\adamxht\\\\AdamLab\\\\docs\\\\TayXueHao-Resume.pdf', 'page': 1})]\n",
      "6 Chunks saved into Chroma               using embedding model: text-embedding-3-small.\n",
      "Vectorstore now has 6 chunks.\n"
     ]
    }
   ],
   "source": [
    "from rag.utils import read_config\n",
    "from rag.ingest import ADAM_VECTORDB, ADAM_CHUNKER, ADAM_LOADER\n",
    "from rag.ingest.ingest import AdamIngest\n",
    "import os\n",
    "# Configs\n",
    "vectordb_cfg = read_config(\"../configs/ingest.yaml\", \"vectordb\")\n",
    "loader_cfg = read_config(\"../configs/ingest.yaml\", \"loader\")\n",
    "chunker_cfg = read_config(\"../configs/ingest.yaml\", \"chunker\")\n",
    "\n",
    "# Vector db initialization\n",
    "vectordb_choice = next(iter(vectordb_cfg))\n",
    "vectordb = ADAM_VECTORDB[vectordb_choice](**vectordb_cfg[vectordb_choice], debug=True)\n",
    "\n",
    "# Loader initialization\n",
    "loader_choice = next(iter(loader_cfg))\n",
    "loader = ADAM_LOADER[loader_choice](**loader_cfg[loader_choice], debug=True)\n",
    "\n",
    "# Chunker initialization\n",
    "chunker_choice = next(iter(chunker_cfg))\n",
    "chunker = ADAM_CHUNKER[chunker_choice](**chunker_cfg[chunker_choice], debug=True)\n",
    "\n",
    "ingestor = AdamIngest(vectordb, loader, chunker, debug = True)\n",
    "path = r\"C:\\Users\\USER\\adamxht\\AdamLab\\docs\"\n",
    "doc_list = [os.path.join(path, file) for file in os.listdir(path)]\n",
    "ingestor.ingest(doc_list)"
   ]
  },
  {
   "cell_type": "markdown",
   "metadata": {},
   "source": [
    "- Test"
   ]
  },
  {
   "cell_type": "code",
   "execution_count": 3,
   "metadata": {},
   "outputs": [
    {
     "name": "stdout",
     "output_type": "stream",
     "text": [
      "Vectordb: <rag.ingest.vectordb.ChromaDB object at 0x0000024255BAC510> Initialized.\n",
      "Vector Store Retriever: tags=['Chroma', 'OpenAIEmbeddings'] vectorstore=<langchain_chroma.vectorstores.Chroma object at 0x0000024268E18F10> search_kwargs={'k': 6} created\n"
     ]
    },
    {
     "data": {
      "text/plain": [
       "\"Xue Hao's CGPA is 4.00.\""
      ]
     },
     "execution_count": 3,
     "metadata": {},
     "output_type": "execute_result"
    }
   ],
   "source": [
    "from model.llm import OpenaiLLM\n",
    "from model.prompt import zero_shot_prompt\n",
    "from rag.retrieve import VectorStoreRetriever\n",
    "from langchain_core.runnables import RunnablePassthrough\n",
    "from langchain_core.output_parsers import StrOutputParser\n",
    "prompt_template = zero_shot_prompt()\n",
    "llm = OpenaiLLM()\n",
    "\n",
    "vectordb_retriever = VectorStoreRetriever(\n",
    "    vectordb=vectordb,\n",
    "    search_type=\"similarity\", \n",
    "    search_kwargs={\"k\": 6}\n",
    "    )\n",
    "\n",
    "# Preprocessing\n",
    "def format_docs(docs):\n",
    "    return \"\\n\\n\".join(doc.page_content for doc in docs)\n",
    "\n",
    "# Chain\n",
    "rag_chain = (\n",
    "    {\"context\": vectordb_retriever.retriever | format_docs, \"input\": RunnablePassthrough()}\n",
    "    | prompt_template\n",
    "    | llm\n",
    "    | StrOutputParser()\n",
    ")\n",
    "\n",
    "# Query\n",
    "rag_chain.invoke(\"What is xue hao's cgpa?\")"
   ]
  },
  {
   "cell_type": "markdown",
   "metadata": {},
   "source": [
    "### Ingest with configuration file"
   ]
  },
  {
   "cell_type": "code",
   "execution_count": 3,
   "metadata": {},
   "outputs": [],
   "source": [
    "import sys\n",
    "sys.path.append(\"..\")"
   ]
  },
  {
   "cell_type": "code",
   "execution_count": 2,
   "metadata": {},
   "outputs": [
    {
     "name": "stderr",
     "output_type": "stream",
     "text": [
      "USER_AGENT environment variable not set, consider setting it to identify your requests.\n"
     ]
    },
    {
     "name": "stdout",
     "output_type": "stream",
     "text": [
      "No Chromadb located at: ./db/chroma, initializing new.\n",
      "\n",
      "            ==========================================\n",
      "            Vector database configurations\n",
      "            ------------------------------------------\n",
      "            Vector Database: Chroma\n",
      "            Embedding model: text-embedding-3-small\n",
      "            ==========================================\n",
      "        \n",
      "Vectordb: <rag.ingest.vectordb.ChromaDB object at 0x0000024B3FF4DF90> Initialized.\n",
      "\n",
      "            ==========================================\n",
      "            Loader configurations\n",
      "            ------------------------------------------\n",
      "            Loader:  AdamPyPDFLoader\n",
      "            Extract images: {'extract_images': False}\n",
      "            ==========================================\n",
      "            \n",
      "Loader: <rag.ingest.load.PDFLoader object at 0x0000024B52C87990> Initialized.\n",
      "\n",
      "            ==========================================\n",
      "            Chunker configurations\n",
      "            ------------------------------------------\n",
      "            Chunker:  RecursiveCharacterTextSplitter\n",
      "            Chunk Size: 1000\n",
      "            Chunk Overlap: 0\n",
      "            ==========================================\n",
      "            \n",
      "Chunker: <rag.ingest.chunk.RecursiveChunker object at 0x0000024B52A08F90> Initialized.\n",
      "...Chunking...\n",
      "Number of chunks:  6\n",
      "Chunks:  [Document(page_content='Data Scientist\\nDriven by a genuine passion in Artificial Intelligence, I bring a solid academic\\nfoundation with a CGPA of 4.00. As an aspiring Data Scientist, I am eager to\\nlearn and contribute my expertise in Machine Learning and Artificial\\nIntelligence to your organization. With focus of creating value through cutting-\\nedge technology, I specialize in the dynamic realm of Computer Vision, Data\\nScience and Deep Learning. Tay Xue Hao\\nPersonal Details\\nNotable Projects012-462 8936\\ntayxhwork@gmail.com\\n16, Lorong 42, Taman Petani\\nJaya, 08000 Sungai Petani,\\nKedah.\\nhttps://www.linkedin.com/in/t\\nay-xue-hao/EmailPhone\\nLinkedInAddress\\nFacial Emotion Recognition using\\nConvolutional Neural Network (Uni)\\nAutomated Cryptocurrency Trading\\nusing Deep Reinforcement Learning\\n(FYP)\\nMachine Failure Prediction (Uni)\\nEnd to end Customer Churn Analysis\\n(Personal)\\nLLM Fine-Tuning on Mental Health\\nDataset (Freelance)\\nMBTI Classification with Semi-\\nsupervised Learning (Freelance)Personal Protection Equipment', metadata={'source': 'C:\\\\Users\\\\USER\\\\adamxht\\\\AdamLab\\\\docs\\\\TayXueHao-Resume.pdf', 'page': 0}), Document(page_content='Detection (Jabil)\\nAOI Component Defect Detection (Jabil) \\nAXI Void/Bubble Detection (Jabil)\\nBuzzer Oritentation Detection (Jabil)https://github.com/XHTayGitHubQualifications\\n2019 - 2021 Diploma in Computer Science2021 - 2023 Bachelor of Computer Science in Data Science\\n- Tunku Abdul Rahman University College, Kuala Lumpur, Malaysia\\nAwarded a Diploma in Computer Science in May 2021. Relevant\\ncourses included Object-Oriented Programming, Database\\nDevelopment and Applications, Discrete Mathematics, and Statistics.\\nAchieved CGPA is 3.93.- Tunku Abdul Rahman University College, Kuala Lumpur, Malaysia\\nGraduated in August 2023 with a Bachelor’s Degree in Computer\\nScience, Majoring in Data Science with a CGPA of 4.00. Relevant\\nCourses include Data Science, Statistics, Artificial Intelligence, Machine\\nLearning, Image Processing and Natural Language Processing.\\nAwards\\nRegional Insurtech Data Hackathon\\nTARUC x SENHENG Talent Development ProgramAugust 2022September 2022', metadata={'source': 'C:\\\\Users\\\\USER\\\\adamxht\\\\AdamLab\\\\docs\\\\TayXueHao-Resume.pdf', 'page': 0}), Document(page_content='Represented the school as the key player and leader in the Hackathon,\\nwhich included teams from the South East Asian Region on September\\n9-11, 2022. Developed a recommendation engine using both text-\\nbased data as well as images from social media. Major achievement\\nwas successfully developing an image captioning algorithm that can\\ngenerate texts from images.\\nAwarded with The Best Team Award and RM500 worth of S-Coins on\\n22 August 2022. Collaborated and conquered a plethora of\\nchallenges which tested problem solving, teamwork, and\\ncommunication skills, such as public speaking, roleplaying as\\nentrepreneurs to generate revenue, and solving conundrums.https://www.fiverr.com/draventFiverr', metadata={'source': 'C:\\\\Users\\\\USER\\\\adamxht\\\\AdamLab\\\\docs\\\\TayXueHao-Resume.pdf', 'page': 0}), Document(page_content='Completed 3 different Natural language Processing gigs:\\n1. Fine-Tuning Large Language Models (LLM) with mental health  \\nq&a dataset.\\n2. Format data from raw text to JSON to prepare for fine-tuning.\\n3. Semi-supervised learning with Twitter comment dataset to\\npredict users’ MBTI personality with 20:80 labeled and unlabled\\ndata.\\nCore Skills\\nExperienced : \\nPython / Java / C++\\nMachine Learning / Deep Learning\\nData Analytics / Data Science\\nScikit Learn\\nPytorch / Tensorflow\\nPandas / Numpy\\nMatplotlib / Tableau\\nSQL / AWS S3\\nReinforcement Learning \\nGithub/Git\\nLearning :\\nDeployment / CICD pipelines\\nDocker / Flask / RestfulAPI\\nAWS ECR / EC2 / CodePipeline /\\nSagemaker\\nCommunication / Creativity\\nGenerative AI - Stable Diffusion\\nLanguageInterests\\nReading\\nGym Workout \\nSwimming\\nArtificial IntelligenceJabil Global Business Center in Bayan Lepas, PenangWork Experience\\nData Science Intern Specializing in Computer VisionFebruary 2023 - July 2023\\nPlayed a pivotal role in the development of 5 projects :', metadata={'source': 'C:\\\\Users\\\\USER\\\\adamxht\\\\AdamLab\\\\docs\\\\TayXueHao-Resume.pdf', 'page': 1}), Document(page_content='1. Personal Protection Equipment Detection\\nDeveloped Yolo based warning system for onsite welding workers’ safety\\ngear detection.\\n2. X-ray Void Detection \\nLed project to develop custom segmentation algorithm with Yolo, OpenCV\\nand regression analysis for PCB void detection.\\n3. AOI Machine Component Defect Detection\\nTrained and evaluated model backbones for 20k+ componenet defect\\nclassification, devised component image clustering for performance boost.\\n4. USB and PCB Defect Detection\\nDeveloped Yolo based defect detection for USB and PCB quality checks.\\n5. Buzzer Orientation Detection\\nDeveloped Yolo based model for buzzer orientation verification.September 2023 - December 2023\\nData Science Freelancer on Fiverr\\nPrincipal Data Scientist, Jabil\\nPhone: +13 817003381\\nEmail : Rita_Chen@jabil.comProgramme Leader, Tunku\\nAbdul Rahman University of\\nManagement and Technology\\nPhone: +60 12-315 6972\\nEmail : siewmooi@tarc.edu.myReferences\\nRita Chen Dr. Sandy Lim Siew MooiJanuary 2023 - Present', metadata={'source': 'C:\\\\Users\\\\USER\\\\adamxht\\\\AdamLab\\\\docs\\\\TayXueHao-Resume.pdf', 'page': 1}), Document(page_content='Intel Corporation\\nGraduate Trainee Focusing on AI Engineering\\nDevelop LLM RAG for internal data 1.\\nAI Compiler, model optimization. 2.\\nUpdated in April’24ExcellentExcellent\\nGood', metadata={'source': 'C:\\\\Users\\\\USER\\\\adamxht\\\\AdamLab\\\\docs\\\\TayXueHao-Resume.pdf', 'page': 1})]\n",
      "6 Chunks saved into Chroma               using embedding model: text-embedding-3-small.\n",
      "Vectorstore now has 6 chunks.\n"
     ]
    }
   ],
   "source": [
    "from rag.utils import read_all_config\n",
    "from rag.ingest.ingest import AdamIngest\n",
    "# Configs\n",
    "ingestion_cfg = read_all_config(\"../configs/ingest.yaml\")\n",
    "\n",
    "ingestor = AdamIngest(**ingestion_cfg, debug = True)\n",
    "ingestor.ingest(r\"C:\\Users\\USER\\adamxht\\AdamLab\\docs\\TayXueHao-Resume.pdf\")"
   ]
  },
  {
   "cell_type": "markdown",
   "metadata": {},
   "source": [
    "- Test"
   ]
  },
  {
   "cell_type": "code",
   "execution_count": 3,
   "metadata": {},
   "outputs": [
    {
     "name": "stdout",
     "output_type": "stream",
     "text": [
      "Loading from existing Chromadb located at: db/chroma\n"
     ]
    },
    {
     "data": {
      "text/plain": [
       "\"Xue Hao's CGPA is 4.00.\""
      ]
     },
     "execution_count": 3,
     "metadata": {},
     "output_type": "execute_result"
    }
   ],
   "source": [
    "from model.llm import OpenaiLLM\n",
    "from model.prompt import zero_shot_prompt\n",
    "from langchain_core.runnables import RunnablePassthrough\n",
    "from langchain_core.output_parsers import StrOutputParser\n",
    "from rag.ingest.vectordb import ChromaDB\n",
    "\n",
    "vectordb = ChromaDB(persist_directory=\"db/chroma\") # Assuming it is created\n",
    "prompt_template = zero_shot_prompt()\n",
    "llm = OpenaiLLM()\n",
    "\n",
    "retriever = vectordb.vectorstore.as_retriever(\n",
    "    search_type=\"similarity\", \n",
    "    search_kwargs={\"k\": 6}\n",
    "    )\n",
    "\n",
    "# Preprocessing\n",
    "def format_docs(docs):\n",
    "    return \"\\n\\n\".join(doc.page_content for doc in docs)\n",
    "\n",
    "# Chain\n",
    "rag_chain = (\n",
    "    {\"context\": retriever | format_docs, \"input\": RunnablePassthrough()}\n",
    "    | prompt_template\n",
    "    | llm\n",
    "    | StrOutputParser()\n",
    ")\n",
    "\n",
    "# Query\n",
    "rag_chain.invoke(\"What is xue hao's cgpa?\")"
   ]
  },
  {
   "cell_type": "markdown",
   "metadata": {},
   "source": [
    "- Now that we know how to use the classes we created, we can use them in a python script to easily ingest our documents next time."
   ]
  },
  {
   "cell_type": "markdown",
   "metadata": {},
   "source": [
    "## Modularizing Ragchain"
   ]
  },
  {
   "cell_type": "markdown",
   "metadata": {},
   "source": [
    "**After Ingesting**, we can create our ragchain using the existing vectordb, We also modularized the creation of retriever, and rag chain."
   ]
  },
  {
   "cell_type": "markdown",
   "metadata": {},
   "source": [
    "- With Values"
   ]
  },
  {
   "cell_type": "code",
   "execution_count": 4,
   "metadata": {},
   "outputs": [
    {
     "name": "stdout",
     "output_type": "stream",
     "text": [
      "Retriever: <rag.retrieve.VectorStoreRetriever object at 0x00000295B5922350> Initialized.\n",
      "System prompt initialized\n",
      "LLM: gpt-3.5-turbo-0125 Initialized.\n",
      "\n",
      "            ==========================================\n",
      "            Ragchain configurations\n",
      "            ------------------------------------------\n",
      "            Retriever: <rag.retrieve.VectorStoreRetriever object at 0x00000295B5922350>\n",
      "            System prompt: input_variables=['context', 'input'] messages=[HumanMessagePromptTemplate(prompt=PromptTemplate(input_variables=['context', 'input'], template='\\n        Answer the following question based only on the provided context:\\n        <context>\\n        {context}\\n        </context>\\n\\n        Question: {input}\\n        '))]\n",
      "            LLM: gpt-3.5-turbo-0125\n",
      "            ==========================================\n",
      "        \n",
      "\u001b[32;1m\u001b[1;3m[chain/start]\u001b[0m \u001b[1m[chain:RunnableSequence] Entering Chain run with input:\n",
      "\u001b[0m{\n",
      "  \"input\": \"Cgpa\"\n",
      "}\n",
      "\u001b[32;1m\u001b[1;3m[chain/start]\u001b[0m \u001b[1m[chain:RunnableSequence > chain:RunnableParallel<context,input>] Entering Chain run with input:\n",
      "\u001b[0m{\n",
      "  \"input\": \"Cgpa\"\n",
      "}\n",
      "\u001b[32;1m\u001b[1;3m[chain/start]\u001b[0m \u001b[1m[chain:RunnableSequence > chain:RunnableParallel<context,input> > chain:RunnablePassthrough] Entering Chain run with input:\n",
      "\u001b[0m{\n",
      "  \"input\": \"Cgpa\"\n",
      "}\n",
      "\u001b[36;1m\u001b[1;3m[chain/end]\u001b[0m \u001b[1m[chain:RunnableSequence > chain:RunnableParallel<context,input> > chain:RunnablePassthrough] [0ms] Exiting Chain run with output:\n",
      "\u001b[0m{\n",
      "  \"output\": \"Cgpa\"\n",
      "}\n",
      "\u001b[32;1m\u001b[1;3m[chain/start]\u001b[0m \u001b[1m[chain:RunnableSequence > chain:RunnableParallel<context,input> > chain:RunnableSequence] Entering Chain run with input:\n",
      "\u001b[0m{\n",
      "  \"input\": \"Cgpa\"\n",
      "}\n",
      "\u001b[32;1m\u001b[1;3m[chain/start]\u001b[0m \u001b[1m[chain:RunnableSequence > chain:RunnableParallel<context,input> > chain:RunnableSequence > chain:format_docs] Entering Chain run with input:\n",
      "\u001b[0m[inputs]\n",
      "\u001b[36;1m\u001b[1;3m[chain/end]\u001b[0m \u001b[1m[chain:RunnableSequence > chain:RunnableParallel<context,input> > chain:RunnableSequence > chain:format_docs] [1ms] Exiting Chain run with output:\n",
      "\u001b[0m{\n",
      "  \"output\": \"Detection (Jabil)\\nAOI Component Defect Detection (Jabil) \\nAXI Void/Bubble Detection (Jabil)\\nBuzzer Oritentation Detection (Jabil)https://github.com/XHTayGitHubQualifications\\n2019 - 2021 Diploma in Computer Science2021 - 2023 Bachelor of Computer Science in Data Science\\n- Tunku Abdul Rahman University College, Kuala Lumpur, Malaysia\\nAwarded a Diploma in Computer Science in May 2021. Relevant\\ncourses included Object-Oriented Programming, Database\\nDevelopment and Applications, Discrete Mathematics, and Statistics.\\nAchieved CGPA is 3.93.- Tunku Abdul Rahman University College, Kuala Lumpur, Malaysia\\nGraduated in August 2023 with a Bachelor’s Degree in Computer\\nScience, Majoring in Data Science with a CGPA of 4.00. Relevant\\nCourses include Data Science, Statistics, Artificial Intelligence, Machine\\nLearning, Image Processing and Natural Language Processing.\\nAwards\\nRegional Insurtech Data Hackathon\\nTARUC x SENHENG Talent Development ProgramAugust 2022September 2022\\n\\nDetection (Jabil)\\nAOI Component Defect Detection (Jabil) \\nAXI Void/Bubble Detection (Jabil)\\nBuzzer Oritentation Detection (Jabil)https://github.com/XHTayGitHubQualifications\\n2019 - 2021 Diploma in Computer Science2021 - 2023 Bachelor of Computer Science in Data Science\\n- Tunku Abdul Rahman University College, Kuala Lumpur, Malaysia\\nAwarded a Diploma in Computer Science in May 2021. Relevant\\ncourses included Object-Oriented Programming, Database\\nDevelopment and Applications, Discrete Mathematics, and Statistics.\\nAchieved CGPA is 3.93.- Tunku Abdul Rahman University College, Kuala Lumpur, Malaysia\\nGraduated in August 2023 with a Bachelor’s Degree in Computer\\nScience, Majoring in Data Science with a CGPA of 4.00. Relevant\\nCourses include Data Science, Statistics, Artificial Intelligence, Machine\\nLearning, Image Processing and Natural Language Processing.\\nAwards\\nRegional Insurtech Data Hackathon\\nTARUC x SENHENG Talent Development ProgramAugust 2022September 2022\\n\\nDetection (Jabil)\\nAOI Component Defect Detection (Jabil) \\nAXI Void/Bubble Detection (Jabil)\\nBuzzer Oritentation Detection (Jabil)https://github.com/XHTayGitHubQualifications\\n2019 - 2021 Diploma in Computer Science2021 - 2023 Bachelor of Computer Science in Data Science\\n- Tunku Abdul Rahman University College, Kuala Lumpur, Malaysia\\nAwarded a Diploma in Computer Science in May 2021. Relevant\\ncourses included Object-Oriented Programming, Database\\nDevelopment and Applications, Discrete Mathematics, and Statistics.\\nAchieved CGPA is 3.93.- Tunku Abdul Rahman University College, Kuala Lumpur, Malaysia\\nGraduated in August 2023 with a Bachelor’s Degree in Computer\\nScience, Majoring in Data Science with a CGPA of 4.00. Relevant\\nCourses include Data Science, Statistics, Artificial Intelligence, Machine\\nLearning, Image Processing and Natural Language Processing.\\nAwards\\nRegional Insurtech Data Hackathon\\nTARUC x SENHENG Talent Development ProgramAugust 2022September 2022\\n\\nDetection (Jabil)\\nAOI Component Defect Detection (Jabil) \\nAXI Void/Bubble Detection (Jabil)\\nBuzzer Oritentation Detection (Jabil)https://github.com/XHTayGitHubQualifications\\n2019 - 2021 Diploma in Computer Science2021 - 2023 Bachelor of Computer Science in Data Science\\n- Tunku Abdul Rahman University College, Kuala Lumpur, Malaysia\\nAwarded a Diploma in Computer Science in May 2021. Relevant\\ncourses included Object-Oriented Programming, Database\\nDevelopment and Applications, Discrete Mathematics, and Statistics.\\nAchieved CGPA is 3.93.- Tunku Abdul Rahman University College, Kuala Lumpur, Malaysia\\nGraduated in August 2023 with a Bachelor’s Degree in Computer\\nScience, Majoring in Data Science with a CGPA of 4.00. Relevant\\nCourses include Data Science, Statistics, Artificial Intelligence, Machine\\nLearning, Image Processing and Natural Language Processing.\\nAwards\\nRegional Insurtech Data Hackathon\\nTARUC x SENHENG Talent Development ProgramAugust 2022September 2022\\n\\nDetection (Jabil)\\nAOI Component Defect Detection (Jabil) \\nAXI Void/Bubble Detection (Jabil)\\nBuzzer Oritentation Detection (Jabil)https://github.com/XHTayGitHubQualifications\\n2019 - 2021 Diploma in Computer Science2021 - 2023 Bachelor of Computer Science in Data Science\\n- Tunku Abdul Rahman University College, Kuala Lumpur, Malaysia\\nAwarded a Diploma in Computer Science in May 2021. Relevant\\ncourses included Object-Oriented Programming, Database\\nDevelopment and Applications, Discrete Mathematics, and Statistics.\\nAchieved CGPA is 3.93.- Tunku Abdul Rahman University College, Kuala Lumpur, Malaysia\\nGraduated in August 2023 with a Bachelor’s Degree in Computer\\nScience, Majoring in Data Science with a CGPA of 4.00. Relevant\\nCourses include Data Science, Statistics, Artificial Intelligence, Machine\\nLearning, Image Processing and Natural Language Processing.\\nAwards\\nRegional Insurtech Data Hackathon\\nTARUC x SENHENG Talent Development ProgramAugust 2022September 2022\\n\\nDetection (Jabil)\\nAOI Component Defect Detection (Jabil) \\nAXI Void/Bubble Detection (Jabil)\\nBuzzer Oritentation Detection (Jabil)https://github.com/XHTayGitHubQualifications\\n2019 - 2021 Diploma in Computer Science2021 - 2023 Bachelor of Computer Science in Data Science\\n- Tunku Abdul Rahman University College, Kuala Lumpur, Malaysia\\nAwarded a Diploma in Computer Science in May 2021. Relevant\\ncourses included Object-Oriented Programming, Database\\nDevelopment and Applications, Discrete Mathematics, and Statistics.\\nAchieved CGPA is 3.93.- Tunku Abdul Rahman University College, Kuala Lumpur, Malaysia\\nGraduated in August 2023 with a Bachelor’s Degree in Computer\\nScience, Majoring in Data Science with a CGPA of 4.00. Relevant\\nCourses include Data Science, Statistics, Artificial Intelligence, Machine\\nLearning, Image Processing and Natural Language Processing.\\nAwards\\nRegional Insurtech Data Hackathon\\nTARUC x SENHENG Talent Development ProgramAugust 2022September 2022\"\n",
      "}\n",
      "\u001b[36;1m\u001b[1;3m[chain/end]\u001b[0m \u001b[1m[chain:RunnableSequence > chain:RunnableParallel<context,input> > chain:RunnableSequence] [425ms] Exiting Chain run with output:\n",
      "\u001b[0m{\n",
      "  \"output\": \"Detection (Jabil)\\nAOI Component Defect Detection (Jabil) \\nAXI Void/Bubble Detection (Jabil)\\nBuzzer Oritentation Detection (Jabil)https://github.com/XHTayGitHubQualifications\\n2019 - 2021 Diploma in Computer Science2021 - 2023 Bachelor of Computer Science in Data Science\\n- Tunku Abdul Rahman University College, Kuala Lumpur, Malaysia\\nAwarded a Diploma in Computer Science in May 2021. Relevant\\ncourses included Object-Oriented Programming, Database\\nDevelopment and Applications, Discrete Mathematics, and Statistics.\\nAchieved CGPA is 3.93.- Tunku Abdul Rahman University College, Kuala Lumpur, Malaysia\\nGraduated in August 2023 with a Bachelor’s Degree in Computer\\nScience, Majoring in Data Science with a CGPA of 4.00. Relevant\\nCourses include Data Science, Statistics, Artificial Intelligence, Machine\\nLearning, Image Processing and Natural Language Processing.\\nAwards\\nRegional Insurtech Data Hackathon\\nTARUC x SENHENG Talent Development ProgramAugust 2022September 2022\\n\\nDetection (Jabil)\\nAOI Component Defect Detection (Jabil) \\nAXI Void/Bubble Detection (Jabil)\\nBuzzer Oritentation Detection (Jabil)https://github.com/XHTayGitHubQualifications\\n2019 - 2021 Diploma in Computer Science2021 - 2023 Bachelor of Computer Science in Data Science\\n- Tunku Abdul Rahman University College, Kuala Lumpur, Malaysia\\nAwarded a Diploma in Computer Science in May 2021. Relevant\\ncourses included Object-Oriented Programming, Database\\nDevelopment and Applications, Discrete Mathematics, and Statistics.\\nAchieved CGPA is 3.93.- Tunku Abdul Rahman University College, Kuala Lumpur, Malaysia\\nGraduated in August 2023 with a Bachelor’s Degree in Computer\\nScience, Majoring in Data Science with a CGPA of 4.00. Relevant\\nCourses include Data Science, Statistics, Artificial Intelligence, Machine\\nLearning, Image Processing and Natural Language Processing.\\nAwards\\nRegional Insurtech Data Hackathon\\nTARUC x SENHENG Talent Development ProgramAugust 2022September 2022\\n\\nDetection (Jabil)\\nAOI Component Defect Detection (Jabil) \\nAXI Void/Bubble Detection (Jabil)\\nBuzzer Oritentation Detection (Jabil)https://github.com/XHTayGitHubQualifications\\n2019 - 2021 Diploma in Computer Science2021 - 2023 Bachelor of Computer Science in Data Science\\n- Tunku Abdul Rahman University College, Kuala Lumpur, Malaysia\\nAwarded a Diploma in Computer Science in May 2021. Relevant\\ncourses included Object-Oriented Programming, Database\\nDevelopment and Applications, Discrete Mathematics, and Statistics.\\nAchieved CGPA is 3.93.- Tunku Abdul Rahman University College, Kuala Lumpur, Malaysia\\nGraduated in August 2023 with a Bachelor’s Degree in Computer\\nScience, Majoring in Data Science with a CGPA of 4.00. Relevant\\nCourses include Data Science, Statistics, Artificial Intelligence, Machine\\nLearning, Image Processing and Natural Language Processing.\\nAwards\\nRegional Insurtech Data Hackathon\\nTARUC x SENHENG Talent Development ProgramAugust 2022September 2022\\n\\nDetection (Jabil)\\nAOI Component Defect Detection (Jabil) \\nAXI Void/Bubble Detection (Jabil)\\nBuzzer Oritentation Detection (Jabil)https://github.com/XHTayGitHubQualifications\\n2019 - 2021 Diploma in Computer Science2021 - 2023 Bachelor of Computer Science in Data Science\\n- Tunku Abdul Rahman University College, Kuala Lumpur, Malaysia\\nAwarded a Diploma in Computer Science in May 2021. Relevant\\ncourses included Object-Oriented Programming, Database\\nDevelopment and Applications, Discrete Mathematics, and Statistics.\\nAchieved CGPA is 3.93.- Tunku Abdul Rahman University College, Kuala Lumpur, Malaysia\\nGraduated in August 2023 with a Bachelor’s Degree in Computer\\nScience, Majoring in Data Science with a CGPA of 4.00. Relevant\\nCourses include Data Science, Statistics, Artificial Intelligence, Machine\\nLearning, Image Processing and Natural Language Processing.\\nAwards\\nRegional Insurtech Data Hackathon\\nTARUC x SENHENG Talent Development ProgramAugust 2022September 2022\\n\\nDetection (Jabil)\\nAOI Component Defect Detection (Jabil) \\nAXI Void/Bubble Detection (Jabil)\\nBuzzer Oritentation Detection (Jabil)https://github.com/XHTayGitHubQualifications\\n2019 - 2021 Diploma in Computer Science2021 - 2023 Bachelor of Computer Science in Data Science\\n- Tunku Abdul Rahman University College, Kuala Lumpur, Malaysia\\nAwarded a Diploma in Computer Science in May 2021. Relevant\\ncourses included Object-Oriented Programming, Database\\nDevelopment and Applications, Discrete Mathematics, and Statistics.\\nAchieved CGPA is 3.93.- Tunku Abdul Rahman University College, Kuala Lumpur, Malaysia\\nGraduated in August 2023 with a Bachelor’s Degree in Computer\\nScience, Majoring in Data Science with a CGPA of 4.00. Relevant\\nCourses include Data Science, Statistics, Artificial Intelligence, Machine\\nLearning, Image Processing and Natural Language Processing.\\nAwards\\nRegional Insurtech Data Hackathon\\nTARUC x SENHENG Talent Development ProgramAugust 2022September 2022\\n\\nDetection (Jabil)\\nAOI Component Defect Detection (Jabil) \\nAXI Void/Bubble Detection (Jabil)\\nBuzzer Oritentation Detection (Jabil)https://github.com/XHTayGitHubQualifications\\n2019 - 2021 Diploma in Computer Science2021 - 2023 Bachelor of Computer Science in Data Science\\n- Tunku Abdul Rahman University College, Kuala Lumpur, Malaysia\\nAwarded a Diploma in Computer Science in May 2021. Relevant\\ncourses included Object-Oriented Programming, Database\\nDevelopment and Applications, Discrete Mathematics, and Statistics.\\nAchieved CGPA is 3.93.- Tunku Abdul Rahman University College, Kuala Lumpur, Malaysia\\nGraduated in August 2023 with a Bachelor’s Degree in Computer\\nScience, Majoring in Data Science with a CGPA of 4.00. Relevant\\nCourses include Data Science, Statistics, Artificial Intelligence, Machine\\nLearning, Image Processing and Natural Language Processing.\\nAwards\\nRegional Insurtech Data Hackathon\\nTARUC x SENHENG Talent Development ProgramAugust 2022September 2022\"\n",
      "}\n",
      "\u001b[36;1m\u001b[1;3m[chain/end]\u001b[0m \u001b[1m[chain:RunnableSequence > chain:RunnableParallel<context,input>] [434ms] Exiting Chain run with output:\n",
      "\u001b[0m{\n",
      "  \"context\": \"Detection (Jabil)\\nAOI Component Defect Detection (Jabil) \\nAXI Void/Bubble Detection (Jabil)\\nBuzzer Oritentation Detection (Jabil)https://github.com/XHTayGitHubQualifications\\n2019 - 2021 Diploma in Computer Science2021 - 2023 Bachelor of Computer Science in Data Science\\n- Tunku Abdul Rahman University College, Kuala Lumpur, Malaysia\\nAwarded a Diploma in Computer Science in May 2021. Relevant\\ncourses included Object-Oriented Programming, Database\\nDevelopment and Applications, Discrete Mathematics, and Statistics.\\nAchieved CGPA is 3.93.- Tunku Abdul Rahman University College, Kuala Lumpur, Malaysia\\nGraduated in August 2023 with a Bachelor’s Degree in Computer\\nScience, Majoring in Data Science with a CGPA of 4.00. Relevant\\nCourses include Data Science, Statistics, Artificial Intelligence, Machine\\nLearning, Image Processing and Natural Language Processing.\\nAwards\\nRegional Insurtech Data Hackathon\\nTARUC x SENHENG Talent Development ProgramAugust 2022September 2022\\n\\nDetection (Jabil)\\nAOI Component Defect Detection (Jabil) \\nAXI Void/Bubble Detection (Jabil)\\nBuzzer Oritentation Detection (Jabil)https://github.com/XHTayGitHubQualifications\\n2019 - 2021 Diploma in Computer Science2021 - 2023 Bachelor of Computer Science in Data Science\\n- Tunku Abdul Rahman University College, Kuala Lumpur, Malaysia\\nAwarded a Diploma in Computer Science in May 2021. Relevant\\ncourses included Object-Oriented Programming, Database\\nDevelopment and Applications, Discrete Mathematics, and Statistics.\\nAchieved CGPA is 3.93.- Tunku Abdul Rahman University College, Kuala Lumpur, Malaysia\\nGraduated in August 2023 with a Bachelor’s Degree in Computer\\nScience, Majoring in Data Science with a CGPA of 4.00. Relevant\\nCourses include Data Science, Statistics, Artificial Intelligence, Machine\\nLearning, Image Processing and Natural Language Processing.\\nAwards\\nRegional Insurtech Data Hackathon\\nTARUC x SENHENG Talent Development ProgramAugust 2022September 2022\\n\\nDetection (Jabil)\\nAOI Component Defect Detection (Jabil) \\nAXI Void/Bubble Detection (Jabil)\\nBuzzer Oritentation Detection (Jabil)https://github.com/XHTayGitHubQualifications\\n2019 - 2021 Diploma in Computer Science2021 - 2023 Bachelor of Computer Science in Data Science\\n- Tunku Abdul Rahman University College, Kuala Lumpur, Malaysia\\nAwarded a Diploma in Computer Science in May 2021. Relevant\\ncourses included Object-Oriented Programming, Database\\nDevelopment and Applications, Discrete Mathematics, and Statistics.\\nAchieved CGPA is 3.93.- Tunku Abdul Rahman University College, Kuala Lumpur, Malaysia\\nGraduated in August 2023 with a Bachelor’s Degree in Computer\\nScience, Majoring in Data Science with a CGPA of 4.00. Relevant\\nCourses include Data Science, Statistics, Artificial Intelligence, Machine\\nLearning, Image Processing and Natural Language Processing.\\nAwards\\nRegional Insurtech Data Hackathon\\nTARUC x SENHENG Talent Development ProgramAugust 2022September 2022\\n\\nDetection (Jabil)\\nAOI Component Defect Detection (Jabil) \\nAXI Void/Bubble Detection (Jabil)\\nBuzzer Oritentation Detection (Jabil)https://github.com/XHTayGitHubQualifications\\n2019 - 2021 Diploma in Computer Science2021 - 2023 Bachelor of Computer Science in Data Science\\n- Tunku Abdul Rahman University College, Kuala Lumpur, Malaysia\\nAwarded a Diploma in Computer Science in May 2021. Relevant\\ncourses included Object-Oriented Programming, Database\\nDevelopment and Applications, Discrete Mathematics, and Statistics.\\nAchieved CGPA is 3.93.- Tunku Abdul Rahman University College, Kuala Lumpur, Malaysia\\nGraduated in August 2023 with a Bachelor’s Degree in Computer\\nScience, Majoring in Data Science with a CGPA of 4.00. Relevant\\nCourses include Data Science, Statistics, Artificial Intelligence, Machine\\nLearning, Image Processing and Natural Language Processing.\\nAwards\\nRegional Insurtech Data Hackathon\\nTARUC x SENHENG Talent Development ProgramAugust 2022September 2022\\n\\nDetection (Jabil)\\nAOI Component Defect Detection (Jabil) \\nAXI Void/Bubble Detection (Jabil)\\nBuzzer Oritentation Detection (Jabil)https://github.com/XHTayGitHubQualifications\\n2019 - 2021 Diploma in Computer Science2021 - 2023 Bachelor of Computer Science in Data Science\\n- Tunku Abdul Rahman University College, Kuala Lumpur, Malaysia\\nAwarded a Diploma in Computer Science in May 2021. Relevant\\ncourses included Object-Oriented Programming, Database\\nDevelopment and Applications, Discrete Mathematics, and Statistics.\\nAchieved CGPA is 3.93.- Tunku Abdul Rahman University College, Kuala Lumpur, Malaysia\\nGraduated in August 2023 with a Bachelor’s Degree in Computer\\nScience, Majoring in Data Science with a CGPA of 4.00. Relevant\\nCourses include Data Science, Statistics, Artificial Intelligence, Machine\\nLearning, Image Processing and Natural Language Processing.\\nAwards\\nRegional Insurtech Data Hackathon\\nTARUC x SENHENG Talent Development ProgramAugust 2022September 2022\\n\\nDetection (Jabil)\\nAOI Component Defect Detection (Jabil) \\nAXI Void/Bubble Detection (Jabil)\\nBuzzer Oritentation Detection (Jabil)https://github.com/XHTayGitHubQualifications\\n2019 - 2021 Diploma in Computer Science2021 - 2023 Bachelor of Computer Science in Data Science\\n- Tunku Abdul Rahman University College, Kuala Lumpur, Malaysia\\nAwarded a Diploma in Computer Science in May 2021. Relevant\\ncourses included Object-Oriented Programming, Database\\nDevelopment and Applications, Discrete Mathematics, and Statistics.\\nAchieved CGPA is 3.93.- Tunku Abdul Rahman University College, Kuala Lumpur, Malaysia\\nGraduated in August 2023 with a Bachelor’s Degree in Computer\\nScience, Majoring in Data Science with a CGPA of 4.00. Relevant\\nCourses include Data Science, Statistics, Artificial Intelligence, Machine\\nLearning, Image Processing and Natural Language Processing.\\nAwards\\nRegional Insurtech Data Hackathon\\nTARUC x SENHENG Talent Development ProgramAugust 2022September 2022\",\n",
      "  \"input\": \"Cgpa\"\n",
      "}\n",
      "\u001b[32;1m\u001b[1;3m[chain/start]\u001b[0m \u001b[1m[chain:RunnableSequence > prompt:ChatPromptTemplate] Entering Prompt run with input:\n",
      "\u001b[0m{\n",
      "  \"context\": \"Detection (Jabil)\\nAOI Component Defect Detection (Jabil) \\nAXI Void/Bubble Detection (Jabil)\\nBuzzer Oritentation Detection (Jabil)https://github.com/XHTayGitHubQualifications\\n2019 - 2021 Diploma in Computer Science2021 - 2023 Bachelor of Computer Science in Data Science\\n- Tunku Abdul Rahman University College, Kuala Lumpur, Malaysia\\nAwarded a Diploma in Computer Science in May 2021. Relevant\\ncourses included Object-Oriented Programming, Database\\nDevelopment and Applications, Discrete Mathematics, and Statistics.\\nAchieved CGPA is 3.93.- Tunku Abdul Rahman University College, Kuala Lumpur, Malaysia\\nGraduated in August 2023 with a Bachelor’s Degree in Computer\\nScience, Majoring in Data Science with a CGPA of 4.00. Relevant\\nCourses include Data Science, Statistics, Artificial Intelligence, Machine\\nLearning, Image Processing and Natural Language Processing.\\nAwards\\nRegional Insurtech Data Hackathon\\nTARUC x SENHENG Talent Development ProgramAugust 2022September 2022\\n\\nDetection (Jabil)\\nAOI Component Defect Detection (Jabil) \\nAXI Void/Bubble Detection (Jabil)\\nBuzzer Oritentation Detection (Jabil)https://github.com/XHTayGitHubQualifications\\n2019 - 2021 Diploma in Computer Science2021 - 2023 Bachelor of Computer Science in Data Science\\n- Tunku Abdul Rahman University College, Kuala Lumpur, Malaysia\\nAwarded a Diploma in Computer Science in May 2021. Relevant\\ncourses included Object-Oriented Programming, Database\\nDevelopment and Applications, Discrete Mathematics, and Statistics.\\nAchieved CGPA is 3.93.- Tunku Abdul Rahman University College, Kuala Lumpur, Malaysia\\nGraduated in August 2023 with a Bachelor’s Degree in Computer\\nScience, Majoring in Data Science with a CGPA of 4.00. Relevant\\nCourses include Data Science, Statistics, Artificial Intelligence, Machine\\nLearning, Image Processing and Natural Language Processing.\\nAwards\\nRegional Insurtech Data Hackathon\\nTARUC x SENHENG Talent Development ProgramAugust 2022September 2022\\n\\nDetection (Jabil)\\nAOI Component Defect Detection (Jabil) \\nAXI Void/Bubble Detection (Jabil)\\nBuzzer Oritentation Detection (Jabil)https://github.com/XHTayGitHubQualifications\\n2019 - 2021 Diploma in Computer Science2021 - 2023 Bachelor of Computer Science in Data Science\\n- Tunku Abdul Rahman University College, Kuala Lumpur, Malaysia\\nAwarded a Diploma in Computer Science in May 2021. Relevant\\ncourses included Object-Oriented Programming, Database\\nDevelopment and Applications, Discrete Mathematics, and Statistics.\\nAchieved CGPA is 3.93.- Tunku Abdul Rahman University College, Kuala Lumpur, Malaysia\\nGraduated in August 2023 with a Bachelor’s Degree in Computer\\nScience, Majoring in Data Science with a CGPA of 4.00. Relevant\\nCourses include Data Science, Statistics, Artificial Intelligence, Machine\\nLearning, Image Processing and Natural Language Processing.\\nAwards\\nRegional Insurtech Data Hackathon\\nTARUC x SENHENG Talent Development ProgramAugust 2022September 2022\\n\\nDetection (Jabil)\\nAOI Component Defect Detection (Jabil) \\nAXI Void/Bubble Detection (Jabil)\\nBuzzer Oritentation Detection (Jabil)https://github.com/XHTayGitHubQualifications\\n2019 - 2021 Diploma in Computer Science2021 - 2023 Bachelor of Computer Science in Data Science\\n- Tunku Abdul Rahman University College, Kuala Lumpur, Malaysia\\nAwarded a Diploma in Computer Science in May 2021. Relevant\\ncourses included Object-Oriented Programming, Database\\nDevelopment and Applications, Discrete Mathematics, and Statistics.\\nAchieved CGPA is 3.93.- Tunku Abdul Rahman University College, Kuala Lumpur, Malaysia\\nGraduated in August 2023 with a Bachelor’s Degree in Computer\\nScience, Majoring in Data Science with a CGPA of 4.00. Relevant\\nCourses include Data Science, Statistics, Artificial Intelligence, Machine\\nLearning, Image Processing and Natural Language Processing.\\nAwards\\nRegional Insurtech Data Hackathon\\nTARUC x SENHENG Talent Development ProgramAugust 2022September 2022\\n\\nDetection (Jabil)\\nAOI Component Defect Detection (Jabil) \\nAXI Void/Bubble Detection (Jabil)\\nBuzzer Oritentation Detection (Jabil)https://github.com/XHTayGitHubQualifications\\n2019 - 2021 Diploma in Computer Science2021 - 2023 Bachelor of Computer Science in Data Science\\n- Tunku Abdul Rahman University College, Kuala Lumpur, Malaysia\\nAwarded a Diploma in Computer Science in May 2021. Relevant\\ncourses included Object-Oriented Programming, Database\\nDevelopment and Applications, Discrete Mathematics, and Statistics.\\nAchieved CGPA is 3.93.- Tunku Abdul Rahman University College, Kuala Lumpur, Malaysia\\nGraduated in August 2023 with a Bachelor’s Degree in Computer\\nScience, Majoring in Data Science with a CGPA of 4.00. Relevant\\nCourses include Data Science, Statistics, Artificial Intelligence, Machine\\nLearning, Image Processing and Natural Language Processing.\\nAwards\\nRegional Insurtech Data Hackathon\\nTARUC x SENHENG Talent Development ProgramAugust 2022September 2022\\n\\nDetection (Jabil)\\nAOI Component Defect Detection (Jabil) \\nAXI Void/Bubble Detection (Jabil)\\nBuzzer Oritentation Detection (Jabil)https://github.com/XHTayGitHubQualifications\\n2019 - 2021 Diploma in Computer Science2021 - 2023 Bachelor of Computer Science in Data Science\\n- Tunku Abdul Rahman University College, Kuala Lumpur, Malaysia\\nAwarded a Diploma in Computer Science in May 2021. Relevant\\ncourses included Object-Oriented Programming, Database\\nDevelopment and Applications, Discrete Mathematics, and Statistics.\\nAchieved CGPA is 3.93.- Tunku Abdul Rahman University College, Kuala Lumpur, Malaysia\\nGraduated in August 2023 with a Bachelor’s Degree in Computer\\nScience, Majoring in Data Science with a CGPA of 4.00. Relevant\\nCourses include Data Science, Statistics, Artificial Intelligence, Machine\\nLearning, Image Processing and Natural Language Processing.\\nAwards\\nRegional Insurtech Data Hackathon\\nTARUC x SENHENG Talent Development ProgramAugust 2022September 2022\",\n",
      "  \"input\": \"Cgpa\"\n",
      "}\n",
      "\u001b[36;1m\u001b[1;3m[chain/end]\u001b[0m \u001b[1m[chain:RunnableSequence > prompt:ChatPromptTemplate] [0ms] Exiting Prompt run with output:\n",
      "\u001b[0m[outputs]\n",
      "\u001b[32;1m\u001b[1;3m[chain/start]\u001b[0m \u001b[1m[chain:RunnableSequence > chain:RunnableLambda] Entering Chain run with input:\n",
      "\u001b[0m[inputs]\n",
      "\u001b[32;1m\u001b[1;3m[llm/start]\u001b[0m \u001b[1m[chain:RunnableSequence > chain:RunnableLambda > llm:ChatOpenAI] Entering LLM run with input:\n",
      "\u001b[0m{\n",
      "  \"prompts\": [\n",
      "    \"Human: \\n        Answer the following question based only on the provided context:\\n        <context>\\n        Detection (Jabil)\\nAOI Component Defect Detection (Jabil) \\nAXI Void/Bubble Detection (Jabil)\\nBuzzer Oritentation Detection (Jabil)https://github.com/XHTayGitHubQualifications\\n2019 - 2021 Diploma in Computer Science2021 - 2023 Bachelor of Computer Science in Data Science\\n- Tunku Abdul Rahman University College, Kuala Lumpur, Malaysia\\nAwarded a Diploma in Computer Science in May 2021. Relevant\\ncourses included Object-Oriented Programming, Database\\nDevelopment and Applications, Discrete Mathematics, and Statistics.\\nAchieved CGPA is 3.93.- Tunku Abdul Rahman University College, Kuala Lumpur, Malaysia\\nGraduated in August 2023 with a Bachelor’s Degree in Computer\\nScience, Majoring in Data Science with a CGPA of 4.00. Relevant\\nCourses include Data Science, Statistics, Artificial Intelligence, Machine\\nLearning, Image Processing and Natural Language Processing.\\nAwards\\nRegional Insurtech Data Hackathon\\nTARUC x SENHENG Talent Development ProgramAugust 2022September 2022\\n\\nDetection (Jabil)\\nAOI Component Defect Detection (Jabil) \\nAXI Void/Bubble Detection (Jabil)\\nBuzzer Oritentation Detection (Jabil)https://github.com/XHTayGitHubQualifications\\n2019 - 2021 Diploma in Computer Science2021 - 2023 Bachelor of Computer Science in Data Science\\n- Tunku Abdul Rahman University College, Kuala Lumpur, Malaysia\\nAwarded a Diploma in Computer Science in May 2021. Relevant\\ncourses included Object-Oriented Programming, Database\\nDevelopment and Applications, Discrete Mathematics, and Statistics.\\nAchieved CGPA is 3.93.- Tunku Abdul Rahman University College, Kuala Lumpur, Malaysia\\nGraduated in August 2023 with a Bachelor’s Degree in Computer\\nScience, Majoring in Data Science with a CGPA of 4.00. Relevant\\nCourses include Data Science, Statistics, Artificial Intelligence, Machine\\nLearning, Image Processing and Natural Language Processing.\\nAwards\\nRegional Insurtech Data Hackathon\\nTARUC x SENHENG Talent Development ProgramAugust 2022September 2022\\n\\nDetection (Jabil)\\nAOI Component Defect Detection (Jabil) \\nAXI Void/Bubble Detection (Jabil)\\nBuzzer Oritentation Detection (Jabil)https://github.com/XHTayGitHubQualifications\\n2019 - 2021 Diploma in Computer Science2021 - 2023 Bachelor of Computer Science in Data Science\\n- Tunku Abdul Rahman University College, Kuala Lumpur, Malaysia\\nAwarded a Diploma in Computer Science in May 2021. Relevant\\ncourses included Object-Oriented Programming, Database\\nDevelopment and Applications, Discrete Mathematics, and Statistics.\\nAchieved CGPA is 3.93.- Tunku Abdul Rahman University College, Kuala Lumpur, Malaysia\\nGraduated in August 2023 with a Bachelor’s Degree in Computer\\nScience, Majoring in Data Science with a CGPA of 4.00. Relevant\\nCourses include Data Science, Statistics, Artificial Intelligence, Machine\\nLearning, Image Processing and Natural Language Processing.\\nAwards\\nRegional Insurtech Data Hackathon\\nTARUC x SENHENG Talent Development ProgramAugust 2022September 2022\\n\\nDetection (Jabil)\\nAOI Component Defect Detection (Jabil) \\nAXI Void/Bubble Detection (Jabil)\\nBuzzer Oritentation Detection (Jabil)https://github.com/XHTayGitHubQualifications\\n2019 - 2021 Diploma in Computer Science2021 - 2023 Bachelor of Computer Science in Data Science\\n- Tunku Abdul Rahman University College, Kuala Lumpur, Malaysia\\nAwarded a Diploma in Computer Science in May 2021. Relevant\\ncourses included Object-Oriented Programming, Database\\nDevelopment and Applications, Discrete Mathematics, and Statistics.\\nAchieved CGPA is 3.93.- Tunku Abdul Rahman University College, Kuala Lumpur, Malaysia\\nGraduated in August 2023 with a Bachelor’s Degree in Computer\\nScience, Majoring in Data Science with a CGPA of 4.00. Relevant\\nCourses include Data Science, Statistics, Artificial Intelligence, Machine\\nLearning, Image Processing and Natural Language Processing.\\nAwards\\nRegional Insurtech Data Hackathon\\nTARUC x SENHENG Talent Development ProgramAugust 2022September 2022\\n\\nDetection (Jabil)\\nAOI Component Defect Detection (Jabil) \\nAXI Void/Bubble Detection (Jabil)\\nBuzzer Oritentation Detection (Jabil)https://github.com/XHTayGitHubQualifications\\n2019 - 2021 Diploma in Computer Science2021 - 2023 Bachelor of Computer Science in Data Science\\n- Tunku Abdul Rahman University College, Kuala Lumpur, Malaysia\\nAwarded a Diploma in Computer Science in May 2021. Relevant\\ncourses included Object-Oriented Programming, Database\\nDevelopment and Applications, Discrete Mathematics, and Statistics.\\nAchieved CGPA is 3.93.- Tunku Abdul Rahman University College, Kuala Lumpur, Malaysia\\nGraduated in August 2023 with a Bachelor’s Degree in Computer\\nScience, Majoring in Data Science with a CGPA of 4.00. Relevant\\nCourses include Data Science, Statistics, Artificial Intelligence, Machine\\nLearning, Image Processing and Natural Language Processing.\\nAwards\\nRegional Insurtech Data Hackathon\\nTARUC x SENHENG Talent Development ProgramAugust 2022September 2022\\n\\nDetection (Jabil)\\nAOI Component Defect Detection (Jabil) \\nAXI Void/Bubble Detection (Jabil)\\nBuzzer Oritentation Detection (Jabil)https://github.com/XHTayGitHubQualifications\\n2019 - 2021 Diploma in Computer Science2021 - 2023 Bachelor of Computer Science in Data Science\\n- Tunku Abdul Rahman University College, Kuala Lumpur, Malaysia\\nAwarded a Diploma in Computer Science in May 2021. Relevant\\ncourses included Object-Oriented Programming, Database\\nDevelopment and Applications, Discrete Mathematics, and Statistics.\\nAchieved CGPA is 3.93.- Tunku Abdul Rahman University College, Kuala Lumpur, Malaysia\\nGraduated in August 2023 with a Bachelor’s Degree in Computer\\nScience, Majoring in Data Science with a CGPA of 4.00. Relevant\\nCourses include Data Science, Statistics, Artificial Intelligence, Machine\\nLearning, Image Processing and Natural Language Processing.\\nAwards\\nRegional Insurtech Data Hackathon\\nTARUC x SENHENG Talent Development ProgramAugust 2022September 2022\\n        </context>\\n\\n        Question: Cgpa\"\n",
      "  ]\n",
      "}\n",
      "\u001b[36;1m\u001b[1;3m[llm/end]\u001b[0m \u001b[1m[chain:RunnableSequence > chain:RunnableLambda > llm:ChatOpenAI] [1.04s] Exiting LLM run with output:\n",
      "\u001b[0m{\n",
      "  \"generations\": [\n",
      "    [\n",
      "      {\n",
      "        \"text\": \"The CGPA mentioned in the context is 4.00 for the Bachelor's Degree in Computer Science, majoring in Data Science.\",\n",
      "        \"generation_info\": {\n",
      "          \"finish_reason\": \"stop\",\n",
      "          \"logprobs\": null\n",
      "        },\n",
      "        \"type\": \"ChatGeneration\",\n",
      "        \"message\": {\n",
      "          \"lc\": 1,\n",
      "          \"type\": \"constructor\",\n",
      "          \"id\": [\n",
      "            \"langchain\",\n",
      "            \"schema\",\n",
      "            \"messages\",\n",
      "            \"AIMessage\"\n",
      "          ],\n",
      "          \"kwargs\": {\n",
      "            \"content\": \"The CGPA mentioned in the context is 4.00 for the Bachelor's Degree in Computer Science, majoring in Data Science.\",\n",
      "            \"response_metadata\": {\n",
      "              \"token_usage\": {\n",
      "                \"completion_tokens\": 27,\n",
      "                \"prompt_tokens\": 1417,\n",
      "                \"total_tokens\": 1444\n",
      "              },\n",
      "              \"model_name\": \"gpt-3.5-turbo-0125\",\n",
      "              \"system_fingerprint\": null,\n",
      "              \"finish_reason\": \"stop\",\n",
      "              \"logprobs\": null\n",
      "            },\n",
      "            \"type\": \"ai\",\n",
      "            \"id\": \"run-c81733be-7b2d-4ca3-9d04-cc9102b3c72c-0\",\n",
      "            \"usage_metadata\": {\n",
      "              \"input_tokens\": 1417,\n",
      "              \"output_tokens\": 27,\n",
      "              \"total_tokens\": 1444\n",
      "            },\n",
      "            \"tool_calls\": [],\n",
      "            \"invalid_tool_calls\": []\n",
      "          }\n",
      "        }\n",
      "      }\n",
      "    ]\n",
      "  ],\n",
      "  \"llm_output\": {\n",
      "    \"token_usage\": {\n",
      "      \"completion_tokens\": 27,\n",
      "      \"prompt_tokens\": 1417,\n",
      "      \"total_tokens\": 1444\n",
      "    },\n",
      "    \"model_name\": \"gpt-3.5-turbo-0125\",\n",
      "    \"system_fingerprint\": null\n",
      "  },\n",
      "  \"run\": null\n",
      "}\n",
      "\u001b[36;1m\u001b[1;3m[chain/end]\u001b[0m \u001b[1m[chain:RunnableSequence > chain:RunnableLambda] [1.04s] Exiting Chain run with output:\n",
      "\u001b[0m{\n",
      "  \"output\": \"The CGPA mentioned in the context is 4.00 for the Bachelor's Degree in Computer Science, majoring in Data Science.\"\n",
      "}\n",
      "\u001b[32;1m\u001b[1;3m[chain/start]\u001b[0m \u001b[1m[chain:RunnableSequence > parser:StrOutputParser] Entering Parser run with input:\n",
      "\u001b[0m{\n",
      "  \"input\": \"The CGPA mentioned in the context is 4.00 for the Bachelor's Degree in Computer Science, majoring in Data Science.\"\n",
      "}\n",
      "\u001b[36;1m\u001b[1;3m[chain/end]\u001b[0m \u001b[1m[chain:RunnableSequence > parser:StrOutputParser] [0ms] Exiting Parser run with output:\n",
      "\u001b[0m{\n",
      "  \"output\": \"The CGPA mentioned in the context is 4.00 for the Bachelor's Degree in Computer Science, majoring in Data Science.\"\n",
      "}\n",
      "\u001b[36;1m\u001b[1;3m[chain/end]\u001b[0m \u001b[1m[chain:RunnableSequence] [1.49s] Exiting Chain run with output:\n",
      "\u001b[0m{\n",
      "  \"output\": \"The CGPA mentioned in the context is 4.00 for the Bachelor's Degree in Computer Science, majoring in Data Science.\"\n",
      "}\n"
     ]
    },
    {
     "data": {
      "text/plain": [
       "\"The CGPA mentioned in the context is 4.00 for the Bachelor's Degree in Computer Science, majoring in Data Science.\""
      ]
     },
     "execution_count": 4,
     "metadata": {},
     "output_type": "execute_result"
    }
   ],
   "source": [
    "from rag.ragchain import RagChain\n",
    "ragchain = RagChain(retriever=vectordb_retriever, llm=llm, system_prompt=prompt_template, debug=True)\n",
    "ragchain(\"Cgpa\")"
   ]
  },
  {
   "cell_type": "markdown",
   "metadata": {},
   "source": [
    "- With configuration file"
   ]
  },
  {
   "cell_type": "code",
   "execution_count": 1,
   "metadata": {},
   "outputs": [],
   "source": [
    "import sys\n",
    "sys.path.append(\"..\")"
   ]
  },
  {
   "cell_type": "code",
   "execution_count": 2,
   "metadata": {},
   "outputs": [
    {
     "name": "stderr",
     "output_type": "stream",
     "text": [
      "USER_AGENT environment variable not set, consider setting it to identify your requests.\n"
     ]
    },
    {
     "name": "stdout",
     "output_type": "stream",
     "text": [
      "Loading from existing Chromadb located at: ./db/chroma\n",
      "Vectordb: <rag.ingest.vectordb.ChromaDB object at 0x00000140D42F6B10> Initialized.\n",
      "Vector Store Retriever: tags=['Chroma', 'OpenAIEmbeddings'] vectorstore=<langchain_chroma.vectorstores.Chroma object at 0x00000140D451D5D0> search_kwargs={'k': 6} created\n",
      "Retriever: <rag.retrieve.VectorStoreRetriever object at 0x00000140D451C790> Initialized.\n",
      "System prompt initialized\n",
      "LLM: gpt-3.5-turbo-0125 Initialized.\n"
     ]
    },
    {
     "data": {
      "text/plain": [
       "\"Xue Hao's CGPA is 4.00.\""
      ]
     },
     "execution_count": 2,
     "metadata": {},
     "output_type": "execute_result"
    }
   ],
   "source": [
    "from rag.ragchain import RagChain\n",
    "from rag.utils import read_all_config\n",
    "retrieval_cfg = read_all_config(\"../configs/rag.yaml\")\n",
    "ragchain = RagChain(**retrieval_cfg, debug=False)\n",
    "ragchain(\"What is xue hao's cgpa?\")"
   ]
  }
 ],
 "metadata": {
  "kernelspec": {
   "display_name": "adamlab",
   "language": "python",
   "name": "python3"
  },
  "language_info": {
   "codemirror_mode": {
    "name": "ipython",
    "version": 3
   },
   "file_extension": ".py",
   "mimetype": "text/x-python",
   "name": "python",
   "nbconvert_exporter": "python",
   "pygments_lexer": "ipython3",
   "version": "3.11.9"
  }
 },
 "nbformat": 4,
 "nbformat_minor": 2
}
