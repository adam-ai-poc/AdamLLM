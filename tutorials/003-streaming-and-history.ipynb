{
 "cells": [
  {
   "cell_type": "markdown",
   "metadata": {},
   "source": [
    "## Streaming"
   ]
  },
  {
   "cell_type": "markdown",
   "metadata": {},
   "source": [
    "Streaming is critical in making applications based on LLMs feel responsive to end-users. Streaming yields the token output of the chat model before it finishes. With streaming, user can see the outputs earlier hence improving the user experience."
   ]
  },
  {
   "cell_type": "code",
   "execution_count": 1,
   "metadata": {},
   "outputs": [],
   "source": [
    "import sys\n",
    "sys.path.append(\"..\")"
   ]
  },
  {
   "cell_type": "code",
   "execution_count": 2,
   "metadata": {},
   "outputs": [
    {
     "name": "stderr",
     "output_type": "stream",
     "text": [
      "USER_AGENT environment variable not set, consider setting it to identify your requests.\n"
     ]
    },
    {
     "name": "stdout",
     "output_type": "stream",
     "text": [
      "Loading from existing Chromadb located at: ./db/chroma\n"
     ]
    }
   ],
   "source": [
    "from rag.ragchain import RagChain\n",
    "from rag.utils import read_all_config\n",
    "retrieval_cfg = read_all_config(\"../configs/rag.yaml\")\n",
    "ragchain = RagChain(**retrieval_cfg, debug=False)"
   ]
  },
  {
   "cell_type": "code",
   "execution_count": 3,
   "metadata": {},
   "outputs": [
    {
     "name": "stdout",
     "output_type": "stream",
     "text": [
      "The CGPA (Cumulative Grade Point Average) mentioned in the context is 4.00."
     ]
    }
   ],
   "source": [
    "for chunk in ragchain.stream(\"cgpa\"):\n",
    "    print(chunk, end = \"\", flush=True)"
   ]
  },
  {
   "cell_type": "code",
   "execution_count": 4,
   "metadata": {},
   "outputs": [
    {
     "data": {
      "text/plain": [
       "[HumanMessage(content='cgpa'),\n",
       " AIMessage(content='The CGPA (Cumulative Grade Point Average) mentioned in the context is 4.00.')]"
      ]
     },
     "execution_count": 4,
     "metadata": {},
     "output_type": "execute_result"
    }
   ],
   "source": [
    "ragchain.chat_history"
   ]
  },
  {
   "cell_type": "markdown",
   "metadata": {},
   "source": [
    "## Chat History"
   ]
  },
  {
   "cell_type": "markdown",
   "metadata": {},
   "source": [
    "Chat history is a crucial feature for any chatbot application, we have implemented the storing of chat history in the RagChain class."
   ]
  },
  {
   "cell_type": "markdown",
   "metadata": {},
   "source": [
    "- With one chat history"
   ]
  },
  {
   "cell_type": "code",
   "execution_count": 5,
   "metadata": {},
   "outputs": [
    {
     "name": "stdout",
     "output_type": "stream",
     "text": [
      "Loading from existing Chromadb located at: ./db/chroma\n"
     ]
    }
   ],
   "source": [
    "ragchain_history = RagChain(**retrieval_cfg, num_history=1)"
   ]
  },
  {
   "cell_type": "code",
   "execution_count": 6,
   "metadata": {},
   "outputs": [
    {
     "name": "stdout",
     "output_type": "stream",
     "text": [
      "Recent history:  []\n",
      "Contexts:  Detection (Jabil)\n",
      "AOI Component Defect Detection (Jabil) \n",
      "AXI Void/Bubble Detection (Jabil)\n",
      "Buzzer Oritentation Detection (Jabil)https://github.com/XHTayGitHubQualifications\n",
      "2019 - 2021 Diploma in Computer Science2021 - 2023 Bachelor of Computer Science in Data Science\n",
      "- Tunku Abdul Rahman University College, Kuala Lumpur, Malaysia\n",
      "Awarded a Diploma in Computer Science in May 2021. Relevant\n",
      "courses included Object-Oriented Programming, Database\n",
      "Development and Applications, Discrete Mathematics, and Statistics.\n",
      "Achieved CGPA is 3.93.- Tunku Abdul Rahman University College, Kuala Lumpur, Malaysia\n",
      "Graduated in August 2023 with a Bachelor’s Degree in Computer\n",
      "Science, Majoring in Data Science with a CGPA of 4.00. Relevant\n",
      "Courses include Data Science, Statistics, Artificial Intelligence, Machine\n",
      "Learning, Image Processing and Natural Language Processing.\n",
      "Awards\n",
      "Regional Insurtech Data Hackathon\n",
      "TARUC x SENHENG Talent Development ProgramAugust 2022September 2022\n",
      "\n",
      "Data Scientist\n",
      "Driven by a genuine passion in Artificial Intelligence, I bring a solid academic\n",
      "foundation with a CGPA of 4.00. As an aspiring Data Scientist, I am eager to\n",
      "learn and contribute my expertise in Machine Learning and Artificial\n",
      "Intelligence to your organization. With focus of creating value through cutting-\n",
      "edge technology, I specialize in the dynamic realm of Computer Vision, Data\n",
      "Science and Deep Learning. Tay Xue Hao\n",
      "Personal Details\n",
      "Notable Projects012-462 8936\n",
      "tayxhwork@gmail.com\n",
      "16, Lorong 42, Taman Petani\n",
      "Jaya, 08000 Sungai Petani,\n",
      "Kedah.\n",
      "https://www.linkedin.com/in/t\n",
      "ay-xue-hao/EmailPhone\n",
      "LinkedInAddress\n",
      "Facial Emotion Recognition using\n",
      "Convolutional Neural Network (Uni)\n",
      "Automated Cryptocurrency Trading\n",
      "using Deep Reinforcement Learning\n",
      "(FYP)\n",
      "Machine Failure Prediction (Uni)\n",
      "End to end Customer Churn Analysis\n",
      "(Personal)\n",
      "LLM Fine-Tuning on Mental Health\n",
      "Dataset (Freelance)\n",
      "MBTI Classification with Semi-\n",
      "supervised Learning (Freelance)Personal Protection Equipment\n",
      "\n",
      "1. Personal Protection Equipment Detection\n",
      "Developed Yolo based warning system for onsite welding workers’ safety\n",
      "gear detection.\n",
      "2. X-ray Void Detection \n",
      "Led project to develop custom segmentation algorithm with Yolo, OpenCV\n",
      "and regression analysis for PCB void detection.\n",
      "3. AOI Machine Component Defect Detection\n",
      "Trained and evaluated model backbones for 20k+ componenet defect\n",
      "classification, devised component image clustering for performance boost.\n",
      "4. USB and PCB Defect Detection\n",
      "Developed Yolo based defect detection for USB and PCB quality checks.\n",
      "5. Buzzer Orientation Detection\n",
      "Developed Yolo based model for buzzer orientation verification.September 2023 - December 2023\n",
      "Data Science Freelancer on Fiverr\n",
      "Principal Data Scientist, Jabil\n",
      "Phone: +13 817003381\n",
      "Email : Rita_Chen@jabil.comProgramme Leader, Tunku\n",
      "Abdul Rahman University of\n",
      "Management and Technology\n",
      "Phone: +60 12-315 6972\n",
      "Email : siewmooi@tarc.edu.myReferences\n",
      "Rita Chen Dr. Sandy Lim Siew MooiJanuary 2023 - Present\n",
      "\n",
      "Completed 3 different Natural language Processing gigs:\n",
      "1. Fine-Tuning Large Language Models (LLM) with mental health  \n",
      "q&a dataset.\n",
      "2. Format data from raw text to JSON to prepare for fine-tuning.\n",
      "3. Semi-supervised learning with Twitter comment dataset to\n",
      "predict users’ MBTI personality with 20:80 labeled and unlabled\n",
      "data.\n",
      "Core Skills\n",
      "Experienced : \n",
      "Python / Java / C++\n",
      "Machine Learning / Deep Learning\n",
      "Data Analytics / Data Science\n",
      "Scikit Learn\n",
      "Pytorch / Tensorflow\n",
      "Pandas / Numpy\n",
      "Matplotlib / Tableau\n",
      "SQL / AWS S3\n",
      "Reinforcement Learning \n",
      "Github/Git\n",
      "Learning :\n",
      "Deployment / CICD pipelines\n",
      "Docker / Flask / RestfulAPI\n",
      "AWS ECR / EC2 / CodePipeline /\n",
      "Sagemaker\n",
      "Communication / Creativity\n",
      "Generative AI - Stable Diffusion\n",
      "LanguageInterests\n",
      "Reading\n",
      "Gym Workout \n",
      "Swimming\n",
      "Artificial IntelligenceJabil Global Business Center in Bayan Lepas, PenangWork Experience\n",
      "Data Science Intern Specializing in Computer VisionFebruary 2023 - July 2023\n",
      "Played a pivotal role in the development of 5 projects :\n",
      "\n",
      "Intel Corporation\n",
      "Graduate Trainee Focusing on AI Engineering\n",
      "Develop LLM RAG for internal data 1.\n",
      "AI Compiler, model optimization. 2.\n",
      "Updated in April’24ExcellentExcellent\n",
      "Good\n",
      "\n",
      "Represented the school as the key player and leader in the Hackathon,\n",
      "which included teams from the South East Asian Region on September\n",
      "9-11, 2022. Developed a recommendation engine using both text-\n",
      "based data as well as images from social media. Major achievement\n",
      "was successfully developing an image captioning algorithm that can\n",
      "generate texts from images.\n",
      "Awarded with The Best Team Award and RM500 worth of S-Coins on\n",
      "22 August 2022. Collaborated and conquered a plethora of\n",
      "challenges which tested problem solving, teamwork, and\n",
      "communication skills, such as public speaking, roleplaying as\n",
      "entrepreneurs to generate revenue, and solving conundrums.https://www.fiverr.com/draventFiverr\n"
     ]
    },
    {
     "data": {
      "text/plain": [
       "'Based on the provided context, the statement \"My name is Jack\" does not appear to be relevant or related to the information provided.'"
      ]
     },
     "execution_count": 6,
     "metadata": {},
     "output_type": "execute_result"
    }
   ],
   "source": [
    "ragchain_history.debug = True\n",
    "ragchain_history(\"My name is Jack\")"
   ]
  },
  {
   "cell_type": "code",
   "execution_count": 7,
   "metadata": {},
   "outputs": [
    {
     "name": "stdout",
     "output_type": "stream",
     "text": [
      "Recent history:  [HumanMessage(content='My name is Jack'), AIMessage(content='Based on the provided context, the statement \"My name is Jack\" does not appear to be relevant or related to the information provided.')]\n",
      "Contexts:  1. Personal Protection Equipment Detection\n",
      "Developed Yolo based warning system for onsite welding workers’ safety\n",
      "gear detection.\n",
      "2. X-ray Void Detection \n",
      "Led project to develop custom segmentation algorithm with Yolo, OpenCV\n",
      "and regression analysis for PCB void detection.\n",
      "3. AOI Machine Component Defect Detection\n",
      "Trained and evaluated model backbones for 20k+ componenet defect\n",
      "classification, devised component image clustering for performance boost.\n",
      "4. USB and PCB Defect Detection\n",
      "Developed Yolo based defect detection for USB and PCB quality checks.\n",
      "5. Buzzer Orientation Detection\n",
      "Developed Yolo based model for buzzer orientation verification.September 2023 - December 2023\n",
      "Data Science Freelancer on Fiverr\n",
      "Principal Data Scientist, Jabil\n",
      "Phone: +13 817003381\n",
      "Email : Rita_Chen@jabil.comProgramme Leader, Tunku\n",
      "Abdul Rahman University of\n",
      "Management and Technology\n",
      "Phone: +60 12-315 6972\n",
      "Email : siewmooi@tarc.edu.myReferences\n",
      "Rita Chen Dr. Sandy Lim Siew MooiJanuary 2023 - Present\n",
      "\n",
      "Data Scientist\n",
      "Driven by a genuine passion in Artificial Intelligence, I bring a solid academic\n",
      "foundation with a CGPA of 4.00. As an aspiring Data Scientist, I am eager to\n",
      "learn and contribute my expertise in Machine Learning and Artificial\n",
      "Intelligence to your organization. With focus of creating value through cutting-\n",
      "edge technology, I specialize in the dynamic realm of Computer Vision, Data\n",
      "Science and Deep Learning. Tay Xue Hao\n",
      "Personal Details\n",
      "Notable Projects012-462 8936\n",
      "tayxhwork@gmail.com\n",
      "16, Lorong 42, Taman Petani\n",
      "Jaya, 08000 Sungai Petani,\n",
      "Kedah.\n",
      "https://www.linkedin.com/in/t\n",
      "ay-xue-hao/EmailPhone\n",
      "LinkedInAddress\n",
      "Facial Emotion Recognition using\n",
      "Convolutional Neural Network (Uni)\n",
      "Automated Cryptocurrency Trading\n",
      "using Deep Reinforcement Learning\n",
      "(FYP)\n",
      "Machine Failure Prediction (Uni)\n",
      "End to end Customer Churn Analysis\n",
      "(Personal)\n",
      "LLM Fine-Tuning on Mental Health\n",
      "Dataset (Freelance)\n",
      "MBTI Classification with Semi-\n",
      "supervised Learning (Freelance)Personal Protection Equipment\n",
      "\n",
      "Detection (Jabil)\n",
      "AOI Component Defect Detection (Jabil) \n",
      "AXI Void/Bubble Detection (Jabil)\n",
      "Buzzer Oritentation Detection (Jabil)https://github.com/XHTayGitHubQualifications\n",
      "2019 - 2021 Diploma in Computer Science2021 - 2023 Bachelor of Computer Science in Data Science\n",
      "- Tunku Abdul Rahman University College, Kuala Lumpur, Malaysia\n",
      "Awarded a Diploma in Computer Science in May 2021. Relevant\n",
      "courses included Object-Oriented Programming, Database\n",
      "Development and Applications, Discrete Mathematics, and Statistics.\n",
      "Achieved CGPA is 3.93.- Tunku Abdul Rahman University College, Kuala Lumpur, Malaysia\n",
      "Graduated in August 2023 with a Bachelor’s Degree in Computer\n",
      "Science, Majoring in Data Science with a CGPA of 4.00. Relevant\n",
      "Courses include Data Science, Statistics, Artificial Intelligence, Machine\n",
      "Learning, Image Processing and Natural Language Processing.\n",
      "Awards\n",
      "Regional Insurtech Data Hackathon\n",
      "TARUC x SENHENG Talent Development ProgramAugust 2022September 2022\n",
      "\n",
      "Intel Corporation\n",
      "Graduate Trainee Focusing on AI Engineering\n",
      "Develop LLM RAG for internal data 1.\n",
      "AI Compiler, model optimization. 2.\n",
      "Updated in April’24ExcellentExcellent\n",
      "Good\n",
      "\n",
      "Completed 3 different Natural language Processing gigs:\n",
      "1. Fine-Tuning Large Language Models (LLM) with mental health  \n",
      "q&a dataset.\n",
      "2. Format data from raw text to JSON to prepare for fine-tuning.\n",
      "3. Semi-supervised learning with Twitter comment dataset to\n",
      "predict users’ MBTI personality with 20:80 labeled and unlabled\n",
      "data.\n",
      "Core Skills\n",
      "Experienced : \n",
      "Python / Java / C++\n",
      "Machine Learning / Deep Learning\n",
      "Data Analytics / Data Science\n",
      "Scikit Learn\n",
      "Pytorch / Tensorflow\n",
      "Pandas / Numpy\n",
      "Matplotlib / Tableau\n",
      "SQL / AWS S3\n",
      "Reinforcement Learning \n",
      "Github/Git\n",
      "Learning :\n",
      "Deployment / CICD pipelines\n",
      "Docker / Flask / RestfulAPI\n",
      "AWS ECR / EC2 / CodePipeline /\n",
      "Sagemaker\n",
      "Communication / Creativity\n",
      "Generative AI - Stable Diffusion\n",
      "LanguageInterests\n",
      "Reading\n",
      "Gym Workout \n",
      "Swimming\n",
      "Artificial IntelligenceJabil Global Business Center in Bayan Lepas, PenangWork Experience\n",
      "Data Science Intern Specializing in Computer VisionFebruary 2023 - July 2023\n",
      "Played a pivotal role in the development of 5 projects :\n",
      "\n",
      "Represented the school as the key player and leader in the Hackathon,\n",
      "which included teams from the South East Asian Region on September\n",
      "9-11, 2022. Developed a recommendation engine using both text-\n",
      "based data as well as images from social media. Major achievement\n",
      "was successfully developing an image captioning algorithm that can\n",
      "generate texts from images.\n",
      "Awarded with The Best Team Award and RM500 worth of S-Coins on\n",
      "22 August 2022. Collaborated and conquered a plethora of\n",
      "challenges which tested problem solving, teamwork, and\n",
      "communication skills, such as public speaking, roleplaying as\n",
      "entrepreneurs to generate revenue, and solving conundrums.https://www.fiverr.com/draventFiverr\n"
     ]
    },
    {
     "data": {
      "text/plain": [
       "'Based on the provided context, your name is Jack.'"
      ]
     },
     "execution_count": 7,
     "metadata": {},
     "output_type": "execute_result"
    }
   ],
   "source": [
    "ragchain_history(\"What is my name?\")"
   ]
  }
 ],
 "metadata": {
  "kernelspec": {
   "display_name": "adamlab",
   "language": "python",
   "name": "python3"
  },
  "language_info": {
   "codemirror_mode": {
    "name": "ipython",
    "version": 3
   },
   "file_extension": ".py",
   "mimetype": "text/x-python",
   "name": "python",
   "nbconvert_exporter": "python",
   "pygments_lexer": "ipython3",
   "version": "3.11.9"
  }
 },
 "nbformat": 4,
 "nbformat_minor": 2
}
