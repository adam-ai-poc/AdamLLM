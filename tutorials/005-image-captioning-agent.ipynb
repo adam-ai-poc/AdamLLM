{
 "cells": [
  {
   "cell_type": "markdown",
   "metadata": {},
   "source": [
    "## Multimodal agent"
   ]
  },
  {
   "cell_type": "markdown",
   "metadata": {},
   "source": [
    "This tutorial explores the capability of using llm agents to call external tool as well as multimodality capabilities of llm.\n",
    "\n",
    "- Tool : A specific abstraction around a function that makes it easy for a language model to interact with it. Specifically, the interface of a tool has a single text input and a single text output.\n",
    "\n",
    "- Agents : The language model that drives decision making.\n",
    "\n",
    "For this tutorial, we create two classes, one for detecting objects in an image and another one for captioning images into texts. These classes will then be passed into the llm agent as tools that it can use to answer user's query. It will decide whether it needs to use the tool to answer the user's query. For example, if the user asks, \"Generate a caption in this image.\" the llm should understand that it needs to use the image captioning model to parse the image into text description and return to the user.\n",
    "\n",
    "Since we are using image captioning models from Huggingface, we will need torch for this tutorial. If you have Nvidia GPU, we recommend compiling torch with cuda enabled. The cuda version used for this tutorial is cuda 11.8. If you have a different version (check using nvidia-smi), refer to the official page for pytorch installation: https://pytorch.org/get-started/locally/. The packages are large, make sure you have > 30GB left in your disk.\n",
    "\n",
    "If you do not have an Nvidia GPU, please change `device = \"cuda\"` to `device = \"cpu\"`."
   ]
  },
  {
   "cell_type": "markdown",
   "metadata": {},
   "source": [
    "## Install required packages"
   ]
  },
  {
   "cell_type": "code",
   "execution_count": 1,
   "metadata": {},
   "outputs": [],
   "source": [
    "# pip install -qU transformers tabulate timm ipywidgets"
   ]
  },
  {
   "cell_type": "code",
   "execution_count": 2,
   "metadata": {},
   "outputs": [],
   "source": [
    "# pip install torch torchvision torchaudio --index-url https://download.pytorch.org/whl/cu118"
   ]
  },
  {
   "cell_type": "markdown",
   "metadata": {},
   "source": [
    "## Import required packages"
   ]
  },
  {
   "cell_type": "code",
   "execution_count": 3,
   "metadata": {},
   "outputs": [],
   "source": [
    "from langchain.tools import BaseTool\n",
    "from transformers import BlipProcessor, BlipForConditionalGeneration, DetrImageProcessor, DetrForObjectDetection\n",
    "from PIL import Image\n",
    "import torch\n",
    "\n",
    "import os\n",
    "from tempfile import NamedTemporaryFile\n",
    "from langchain.agents import initialize_agent\n",
    "from langchain.chat_models import ChatOpenAI\n",
    "from langchain.chains.conversation.memory import ConversationBufferWindowMemory"
   ]
  },
  {
   "cell_type": "markdown",
   "metadata": {},
   "source": [
    "## Build custom tools"
   ]
  },
  {
   "cell_type": "code",
   "execution_count": 4,
   "metadata": {},
   "outputs": [],
   "source": [
    "class ImageCaptionTool(BaseTool):\n",
    "    name = \"Image Captioner\"\n",
    "    \n",
    "    description = \"Generate captions for images\"\n",
    "\n",
    "    def _run(self, img_path):\n",
    "        image = Image.open(img_path).convert('RGB')\n",
    "\n",
    "        model_name = \"Salesforce/blip-image-captioning-large\"\n",
    "        device = \"cuda\"\n",
    "\n",
    "        processor = BlipProcessor.from_pretrained(model_name)\n",
    "        model = BlipForConditionalGeneration.from_pretrained(model_name).to(device)\n",
    "\n",
    "        inputs = processor(image, return_tensors='pt').to(device)\n",
    "        outputs = model.generate(**inputs, max_new_tokens=20)\n",
    "\n",
    "        caption = processor.decode(outputs[0], skip_special_tokens=True)\n",
    "\n",
    "        return caption\n",
    "    \n",
    "    def _arun(self, query: str):\n",
    "        raise NotImplementedError(\"This tool does not support async\")\n"
   ]
  },
  {
   "cell_type": "code",
   "execution_count": 5,
   "metadata": {},
   "outputs": [],
   "source": [
    "class ObjectDetectionTool(BaseTool):\n",
    "    name = \"Object detector\"\n",
    "    description = \"Use this tool when given the path to an image that you would like to detect objects. \" \\\n",
    "                  \"It will return a list of all detected objects. Each element in the list in the format: \" \\\n",
    "                  \"[x1, y1, x2, y2] class_name confidence_score.\"\n",
    "\n",
    "    def _run(self, img_path):\n",
    "        image = Image.open(img_path).convert('RGB')\n",
    "\n",
    "        processor = DetrImageProcessor.from_pretrained(\"facebook/detr-resnet-50\")\n",
    "        model = DetrForObjectDetection.from_pretrained(\"facebook/detr-resnet-50\")\n",
    "\n",
    "        inputs = processor(images=image, return_tensors=\"pt\")\n",
    "        outputs = model(**inputs)\n",
    "\n",
    "        # convert outputs (bounding boxes and class logits) to COCO API\n",
    "        # let's only keep detections with score > 0.9\n",
    "        target_sizes = torch.tensor([image.size[::-1]])\n",
    "        results = processor.post_process_object_detection(outputs, target_sizes=target_sizes, threshold=0.9)[0]\n",
    "\n",
    "        detections = \"\"\n",
    "        for score, label, box in zip(results[\"scores\"], results[\"labels\"], results[\"boxes\"]):\n",
    "            detections += '[{}, {}, {}, {}]'.format(int(box[0]), int(box[1]), int(box[2]), int(box[3]))\n",
    "            detections += ' {}'.format(model.config.id2label[int(label)])\n",
    "            detections += ' {}\\n'.format(float(score))\n",
    "\n",
    "        return detections\n",
    "\n",
    "    def _arun(self, query: str):\n",
    "        raise NotImplementedError(\"This tool does not support async\")"
   ]
  },
  {
   "cell_type": "markdown",
   "metadata": {},
   "source": [
    "## Define Helper functions"
   ]
  },
  {
   "cell_type": "code",
   "execution_count": 6,
   "metadata": {},
   "outputs": [],
   "source": [
    "def get_image_caption(image_path):\n",
    "    \"\"\"\n",
    "    Generates a short caption for the provided image.\n",
    "\n",
    "    Args:\n",
    "        image_path (str): The path to the image file.\n",
    "\n",
    "    Returns:\n",
    "        str: A string representing the caption for the image.\n",
    "    \"\"\"\n",
    "    image = Image.open(image_path).convert('RGB')\n",
    "\n",
    "    model_name = \"Salesforce/blip-image-captioning-large\"\n",
    "    device = \"cuda\"  # cuda\n",
    "\n",
    "    processor = BlipProcessor.from_pretrained(model_name)\n",
    "    model = BlipForConditionalGeneration.from_pretrained(model_name).to(device)\n",
    "\n",
    "    inputs = processor(image, return_tensors='pt').to(device)\n",
    "    output = model.generate(**inputs, max_new_tokens=20)\n",
    "\n",
    "    caption = processor.decode(output[0], skip_special_tokens=True)\n",
    "\n",
    "    return caption\n",
    "\n",
    "\n",
    "def detect_objects(image_path):\n",
    "    \"\"\"\n",
    "    Detects objects in the provided image.\n",
    "\n",
    "    Args:\n",
    "        image_path (str): The path to the image file.\n",
    "\n",
    "    Returns:\n",
    "        str: A string with all the detected objects. Each object as '[x1, x2, y1, y2, class_name, confindence_score]'.\n",
    "    \"\"\"\n",
    "    image = Image.open(image_path).convert('RGB')\n",
    "\n",
    "    processor = DetrImageProcessor.from_pretrained(\"facebook/detr-resnet-50\")\n",
    "    model = DetrForObjectDetection.from_pretrained(\"facebook/detr-resnet-50\")\n",
    "\n",
    "    inputs = processor(images=image, return_tensors=\"pt\")\n",
    "    outputs = model(**inputs)\n",
    "\n",
    "    # convert outputs (bounding boxes and class logits) to COCO API\n",
    "    # let's only keep detections with score > 0.9\n",
    "    target_sizes = torch.tensor([image.size[::-1]])\n",
    "    results = processor.post_process_object_detection(outputs, target_sizes=target_sizes, threshold=0.9)[0]\n",
    "\n",
    "    detections = \"\"\n",
    "    for score, label, box in zip(results[\"scores\"], results[\"labels\"], results[\"boxes\"]):\n",
    "        detections += '[{}, {}, {}, {}]'.format(int(box[0]), int(box[1]), int(box[2]), int(box[3]))\n",
    "        detections += ' {}'.format(model.config.id2label[int(label)])\n",
    "        detections += ' {}\\n'.format(float(score))\n",
    "\n",
    "    return detections"
   ]
  },
  {
   "cell_type": "markdown",
   "metadata": {},
   "source": [
    "## Tool use"
   ]
  },
  {
   "cell_type": "code",
   "execution_count": 7,
   "metadata": {},
   "outputs": [
    {
     "name": "stderr",
     "output_type": "stream",
     "text": [
      "c:\\Users\\USER\\miniconda3\\envs\\adamlab\\Lib\\site-packages\\langchain_core\\_api\\deprecation.py:139: LangChainDeprecationWarning: The class `ChatOpenAI` was deprecated in LangChain 0.0.10 and will be removed in 0.3.0. An updated version of the class exists in the langchain-openai package and should be used instead. To use it run `pip install -U langchain-openai` and import as `from langchain_openai import ChatOpenAI`.\n",
      "  warn_deprecated(\n",
      "c:\\Users\\USER\\miniconda3\\envs\\adamlab\\Lib\\site-packages\\langchain_core\\_api\\deprecation.py:139: LangChainDeprecationWarning: The function `initialize_agent` was deprecated in LangChain 0.1.0 and will be removed in 0.3.0. Use Use new agent constructor methods like create_react_agent, create_json_agent, create_structured_chat_agent, etc. instead.\n",
      "  warn_deprecated(\n"
     ]
    }
   ],
   "source": [
    "#initialize the agent\n",
    "tools = [ImageCaptionTool(), ObjectDetectionTool()]\n",
    "\n",
    "conversational_memory = ConversationBufferWindowMemory(\n",
    "    memory_key='chat_history',\n",
    "    k=5,\n",
    "    return_messages=True\n",
    ")\n",
    "\n",
    "llm = ChatOpenAI(\n",
    "    openai_api_key= os.environ.get(\"OPENAIAI_API_KEY\"),\n",
    "    temperature=0,\n",
    "    model_name=\"gpt-3.5-turbo\"\n",
    ")\n",
    "\n",
    "agent = initialize_agent(\n",
    "    agent=\"chat-conversational-react-description\",\n",
    "    tools=tools,\n",
    "    llm=llm,\n",
    "    max_iterations=5,\n",
    "    verbose=True,\n",
    "    memory=conversational_memory,\n",
    "    early_stopping_method='generate'\n",
    ")"
   ]
  },
  {
   "cell_type": "code",
   "execution_count": 8,
   "metadata": {},
   "outputs": [
    {
     "name": "stderr",
     "output_type": "stream",
     "text": [
      "c:\\Users\\USER\\miniconda3\\envs\\adamlab\\Lib\\site-packages\\langchain_core\\_api\\deprecation.py:139: LangChainDeprecationWarning: The method `Chain.run` was deprecated in langchain 0.1.0 and will be removed in 0.3.0. Use invoke instead.\n",
      "  warn_deprecated(\n"
     ]
    },
    {
     "name": "stdout",
     "output_type": "stream",
     "text": [
      "\n",
      "\n",
      "\u001b[1m> Entering new AgentExecutor chain...\u001b[0m\n",
      "\u001b[32;1m\u001b[1;3m```json\n",
      "{\n",
      "    \"action\": \"Image Captioner\",\n",
      "    \"action_input\": \"../docs/images/traffic.jpg\"\n",
      "}\n",
      "```\u001b[0m\n",
      "Observation: \u001b[36;1m\u001b[1;3mcars are driving down the street in traffic at a green light\u001b[0m\n",
      "Thought:\u001b[32;1m\u001b[1;3m```json\n",
      "{\n",
      "    \"action\": \"Final Answer\",\n",
      "    \"action_input\": \"cars are driving down the street in traffic at a green light\"\n",
      "}\n",
      "```\u001b[0m\n",
      "\n",
      "\u001b[1m> Finished chain.\u001b[0m\n",
      "cars are driving down the street in traffic at a green light\n"
     ]
    }
   ],
   "source": [
    "image_path = \"../docs/images/traffic.jpg\"\n",
    "user_question = \"generate a caption for this iamge?\"\n",
    "response = agent.run(f'{user_question}, this is the image path: {image_path}')\n",
    "print(response)"
   ]
  },
  {
   "cell_type": "markdown",
   "metadata": {},
   "source": [
    "As you can see, the llm is able to decide that the Image Captioner tool is needed to answer the user query. The implementation of the tool can be found in agent/tool."
   ]
  }
 ],
 "metadata": {
  "kernelspec": {
   "display_name": "adamlab",
   "language": "python",
   "name": "python3"
  },
  "language_info": {
   "codemirror_mode": {
    "name": "ipython",
    "version": 3
   },
   "file_extension": ".py",
   "mimetype": "text/x-python",
   "name": "python",
   "nbconvert_exporter": "python",
   "pygments_lexer": "ipython3",
   "version": "3.11.9"
  }
 },
 "nbformat": 4,
 "nbformat_minor": 2
}
