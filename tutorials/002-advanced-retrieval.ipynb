{
 "cells": [
  {
   "cell_type": "code",
   "execution_count": 1,
   "metadata": {},
   "outputs": [],
   "source": [
    "import sys\n",
    "import textwrap\n",
    "\n",
    "sys.path.append(\"..\")"
   ]
  },
  {
   "cell_type": "markdown",
   "metadata": {},
   "source": [
    "### LLM"
   ]
  },
  {
   "cell_type": "code",
   "execution_count": 2,
   "metadata": {},
   "outputs": [],
   "source": [
    "from model.llm import OpenaiLLM\n",
    "llm = OpenaiLLM()"
   ]
  },
  {
   "cell_type": "markdown",
   "metadata": {},
   "source": [
    "### Ingestion"
   ]
  },
  {
   "cell_type": "code",
   "execution_count": 3,
   "metadata": {},
   "outputs": [
    {
     "name": "stderr",
     "output_type": "stream",
     "text": [
      "USER_AGENT environment variable not set, consider setting it to identify your requests.\n"
     ]
    },
    {
     "name": "stdout",
     "output_type": "stream",
     "text": [
      "==========================================\n",
      "Vector database configurations\n",
      "==========================================\n",
      "Vectordb: Chroma\n",
      "Embedding model: text-embedding-3-small\n",
      "==========================================\n",
      "Loader:  ABCMeta\n",
      "{'extract_images': False, 'file_path': '../docs/TayXueHao-Resume.pdf'}\n",
      "chunker: RecursiveCharacterTextSplitter\n",
      "Documents: [Document(page_content='Data Scientist\\nDriven by a genuine passion in Artificial Intelligence, I bring a solid academic\\nfoundation with a CGPA of 4.00. As an aspiring Data Scientist, I am eager to\\nlearn and contribute my expertise in Machine Learning and Artificial\\nIntelligence to your organization. With focus of creating value through cutting-\\nedge technology, I specialize in the dynamic realm of Computer Vision, Data\\nScience and Deep Learning. Tay Xue Hao\\nPersonal Details\\nNotable Projects012-462 8936\\ntayxhwork@gmail.com\\n16, Lorong 42, Taman Petani\\nJaya, 08000 Sungai Petani,\\nKedah.\\nhttps://www.linkedin.com/in/t\\nay-xue-hao/EmailPhone\\nLinkedInAddress\\nFacial Emotion Recognition using\\nConvolutional Neural Network (Uni)\\nAutomated Cryptocurrency Trading\\nusing Deep Reinforcement Learning\\n(FYP)\\nMachine Failure Prediction (Uni)\\nEnd to end Customer Churn Analysis\\n(Personal)\\nLLM Fine-Tuning on Mental Health\\nDataset (Freelance)\\nMBTI Classification with Semi-\\nsupervised Learning (Freelance)Personal Protection Equipment\\nDetection (Jabil)\\nAOI Component Defect Detection (Jabil) \\nAXI Void/Bubble Detection (Jabil)\\nBuzzer Oritentation Detection (Jabil)https://github.com/XHTayGitHubQualifications\\n2019 - 2021 Diploma in Computer Science2021 - 2023 Bachelor of Computer Science in Data Science\\n- Tunku Abdul Rahman University College, Kuala Lumpur, Malaysia\\nAwarded a Diploma in Computer Science in May 2021. Relevant\\ncourses included Object-Oriented Programming, Database\\nDevelopment and Applications, Discrete Mathematics, and Statistics.\\nAchieved CGPA is 3.93.- Tunku Abdul Rahman University College, Kuala Lumpur, Malaysia\\nGraduated in August 2023 with a Bachelor’s Degree in Computer\\nScience, Majoring in Data Science with a CGPA of 4.00. Relevant\\nCourses include Data Science, Statistics, Artificial Intelligence, Machine\\nLearning, Image Processing and Natural Language Processing.\\nAwards\\nRegional Insurtech Data Hackathon\\nTARUC x SENHENG Talent Development ProgramAugust 2022September 2022\\nRepresented the school as the key player and leader in the Hackathon,\\nwhich included teams from the South East Asian Region on September\\n9-11, 2022. Developed a recommendation engine using both text-\\nbased data as well as images from social media. Major achievement\\nwas successfully developing an image captioning algorithm that can\\ngenerate texts from images.\\nAwarded with The Best Team Award and RM500 worth of S-Coins on\\n22 August 2022. Collaborated and conquered a plethora of\\nchallenges which tested problem solving, teamwork, and\\ncommunication skills, such as public speaking, roleplaying as\\nentrepreneurs to generate revenue, and solving conundrums.https://www.fiverr.com/draventFiverr', metadata={'source': '../docs/TayXueHao-Resume.pdf', 'page': 0}), Document(page_content='Completed 3 different Natural language Processing gigs:\\n1. Fine-Tuning Large Language Models (LLM) with mental health  \\nq&a dataset.\\n2. Format data from raw text to JSON to prepare for fine-tuning.\\n3. Semi-supervised learning with Twitter comment dataset to\\npredict users’ MBTI personality with 20:80 labeled and unlabled\\ndata.\\nCore Skills\\nExperienced : \\nPython / Java / C++\\nMachine Learning / Deep Learning\\nData Analytics / Data Science\\nScikit Learn\\nPytorch / Tensorflow\\nPandas / Numpy\\nMatplotlib / Tableau\\nSQL / AWS S3\\nReinforcement Learning \\nGithub/Git\\nLearning :\\nDeployment / CICD pipelines\\nDocker / Flask / RestfulAPI\\nAWS ECR / EC2 / CodePipeline /\\nSagemaker\\nCommunication / Creativity\\nGenerative AI - Stable Diffusion\\nLanguageInterests\\nReading\\nGym Workout \\nSwimming\\nArtificial IntelligenceJabil Global Business Center in Bayan Lepas, PenangWork Experience\\nData Science Intern Specializing in Computer VisionFebruary 2023 - July 2023\\nPlayed a pivotal role in the development of 5 projects :\\n1. Personal Protection Equipment Detection\\nDeveloped Yolo based warning system for onsite welding workers’ safety\\ngear detection.\\n2. X-ray Void Detection \\nLed project to develop custom segmentation algorithm with Yolo, OpenCV\\nand regression analysis for PCB void detection.\\n3. AOI Machine Component Defect Detection\\nTrained and evaluated model backbones for 20k+ componenet defect\\nclassification, devised component image clustering for performance boost.\\n4. USB and PCB Defect Detection\\nDeveloped Yolo based defect detection for USB and PCB quality checks.\\n5. Buzzer Orientation Detection\\nDeveloped Yolo based model for buzzer orientation verification.September 2023 - December 2023\\nData Science Freelancer on Fiverr\\nPrincipal Data Scientist, Jabil\\nPhone: +13 817003381\\nEmail : Rita_Chen@jabil.comProgramme Leader, Tunku\\nAbdul Rahman University of\\nManagement and Technology\\nPhone: +60 12-315 6972\\nEmail : siewmooi@tarc.edu.myReferences\\nRita Chen Dr. Sandy Lim Siew MooiJanuary 2023 - Present\\nIntel Corporation\\nGraduate Trainee Focusing on AI Engineering\\nDevelop LLM RAG for internal data 1.\\nAI Compiler, model optimization. 2.\\nUpdated in April’24ExcellentExcellent\\nGood', metadata={'source': '../docs/TayXueHao-Resume.pdf', 'page': 1})]\n",
      "Number of chunks:  6\n",
      "Chunks:  [Document(page_content='Data Scientist\\nDriven by a genuine passion in Artificial Intelligence, I bring a solid academic\\nfoundation with a CGPA of 4.00. As an aspiring Data Scientist, I am eager to\\nlearn and contribute my expertise in Machine Learning and Artificial\\nIntelligence to your organization. With focus of creating value through cutting-\\nedge technology, I specialize in the dynamic realm of Computer Vision, Data\\nScience and Deep Learning. Tay Xue Hao\\nPersonal Details\\nNotable Projects012-462 8936\\ntayxhwork@gmail.com\\n16, Lorong 42, Taman Petani\\nJaya, 08000 Sungai Petani,\\nKedah.\\nhttps://www.linkedin.com/in/t\\nay-xue-hao/EmailPhone\\nLinkedInAddress\\nFacial Emotion Recognition using\\nConvolutional Neural Network (Uni)\\nAutomated Cryptocurrency Trading\\nusing Deep Reinforcement Learning\\n(FYP)\\nMachine Failure Prediction (Uni)\\nEnd to end Customer Churn Analysis\\n(Personal)\\nLLM Fine-Tuning on Mental Health\\nDataset (Freelance)\\nMBTI Classification with Semi-\\nsupervised Learning (Freelance)Personal Protection Equipment', metadata={'source': '../docs/TayXueHao-Resume.pdf', 'page': 0}), Document(page_content='Detection (Jabil)\\nAOI Component Defect Detection (Jabil) \\nAXI Void/Bubble Detection (Jabil)\\nBuzzer Oritentation Detection (Jabil)https://github.com/XHTayGitHubQualifications\\n2019 - 2021 Diploma in Computer Science2021 - 2023 Bachelor of Computer Science in Data Science\\n- Tunku Abdul Rahman University College, Kuala Lumpur, Malaysia\\nAwarded a Diploma in Computer Science in May 2021. Relevant\\ncourses included Object-Oriented Programming, Database\\nDevelopment and Applications, Discrete Mathematics, and Statistics.\\nAchieved CGPA is 3.93.- Tunku Abdul Rahman University College, Kuala Lumpur, Malaysia\\nGraduated in August 2023 with a Bachelor’s Degree in Computer\\nScience, Majoring in Data Science with a CGPA of 4.00. Relevant\\nCourses include Data Science, Statistics, Artificial Intelligence, Machine\\nLearning, Image Processing and Natural Language Processing.\\nAwards\\nRegional Insurtech Data Hackathon\\nTARUC x SENHENG Talent Development ProgramAugust 2022September 2022', metadata={'source': '../docs/TayXueHao-Resume.pdf', 'page': 0}), Document(page_content='Represented the school as the key player and leader in the Hackathon,\\nwhich included teams from the South East Asian Region on September\\n9-11, 2022. Developed a recommendation engine using both text-\\nbased data as well as images from social media. Major achievement\\nwas successfully developing an image captioning algorithm that can\\ngenerate texts from images.\\nAwarded with The Best Team Award and RM500 worth of S-Coins on\\n22 August 2022. Collaborated and conquered a plethora of\\nchallenges which tested problem solving, teamwork, and\\ncommunication skills, such as public speaking, roleplaying as\\nentrepreneurs to generate revenue, and solving conundrums.https://www.fiverr.com/draventFiverr', metadata={'source': '../docs/TayXueHao-Resume.pdf', 'page': 0}), Document(page_content='Completed 3 different Natural language Processing gigs:\\n1. Fine-Tuning Large Language Models (LLM) with mental health  \\nq&a dataset.\\n2. Format data from raw text to JSON to prepare for fine-tuning.\\n3. Semi-supervised learning with Twitter comment dataset to\\npredict users’ MBTI personality with 20:80 labeled and unlabled\\ndata.\\nCore Skills\\nExperienced : \\nPython / Java / C++\\nMachine Learning / Deep Learning\\nData Analytics / Data Science\\nScikit Learn\\nPytorch / Tensorflow\\nPandas / Numpy\\nMatplotlib / Tableau\\nSQL / AWS S3\\nReinforcement Learning \\nGithub/Git\\nLearning :\\nDeployment / CICD pipelines\\nDocker / Flask / RestfulAPI\\nAWS ECR / EC2 / CodePipeline /\\nSagemaker\\nCommunication / Creativity\\nGenerative AI - Stable Diffusion\\nLanguageInterests\\nReading\\nGym Workout \\nSwimming\\nArtificial IntelligenceJabil Global Business Center in Bayan Lepas, PenangWork Experience\\nData Science Intern Specializing in Computer VisionFebruary 2023 - July 2023\\nPlayed a pivotal role in the development of 5 projects :', metadata={'source': '../docs/TayXueHao-Resume.pdf', 'page': 1}), Document(page_content='1. Personal Protection Equipment Detection\\nDeveloped Yolo based warning system for onsite welding workers’ safety\\ngear detection.\\n2. X-ray Void Detection \\nLed project to develop custom segmentation algorithm with Yolo, OpenCV\\nand regression analysis for PCB void detection.\\n3. AOI Machine Component Defect Detection\\nTrained and evaluated model backbones for 20k+ componenet defect\\nclassification, devised component image clustering for performance boost.\\n4. USB and PCB Defect Detection\\nDeveloped Yolo based defect detection for USB and PCB quality checks.\\n5. Buzzer Orientation Detection\\nDeveloped Yolo based model for buzzer orientation verification.September 2023 - December 2023\\nData Science Freelancer on Fiverr\\nPrincipal Data Scientist, Jabil\\nPhone: +13 817003381\\nEmail : Rita_Chen@jabil.comProgramme Leader, Tunku\\nAbdul Rahman University of\\nManagement and Technology\\nPhone: +60 12-315 6972\\nEmail : siewmooi@tarc.edu.myReferences\\nRita Chen Dr. Sandy Lim Siew MooiJanuary 2023 - Present', metadata={'source': '../docs/TayXueHao-Resume.pdf', 'page': 1}), Document(page_content='Intel Corporation\\nGraduate Trainee Focusing on AI Engineering\\nDevelop LLM RAG for internal data 1.\\nAI Compiler, model optimization. 2.\\nUpdated in April’24ExcellentExcellent\\nGood', metadata={'source': '../docs/TayXueHao-Resume.pdf', 'page': 1})]\n",
      "6 Chunks saved into Chroma using embedding model: client=<openai.resources.embeddings.Embeddings object at 0x0000025BF81006D0> async_client=<openai.resources.embeddings.AsyncEmbeddings object at 0x0000025BF8105B10> model='text-embedding-3-small' dimensions=None deployment='text-embedding-ada-002' openai_api_version='' openai_api_base=None openai_api_type='' openai_proxy='' embedding_ctx_length=8191 openai_api_key=SecretStr('**********') openai_organization=None allowed_special=None disallowed_special=None chunk_size=1000 max_retries=2 request_timeout=None headers=None tiktoken_enabled=True tiktoken_model_name=None show_progress_bar=False model_kwargs={} skip_empty=False default_headers=None default_query=None retry_min_seconds=4 retry_max_seconds=20 http_client=None http_async_client=None check_embedding_ctx_length=True.\n"
     ]
    }
   ],
   "source": [
    "from rag import chunk\n",
    "from rag import load\n",
    "from rag import utils\n",
    "from rag.vectordb import ChromaDB\n",
    "\n",
    "loader_cfg = utils.read_config(\"config.yaml\", \"ragchain\")[\"ingestion_config\"][\"loader\"]\n",
    "chunker_cfg = utils.read_config(\"config.yaml\", \"ragchain\")[\"ingestion_config\"][\"chunker\"]\n",
    "vectordb_cfg = utils.read_config(\"config.yaml\", \"ragchain\")[\"vectordb_config\"]\n",
    "\n",
    "document_path = \"../docs/TayXueHao-Resume.pdf\"\n",
    "chromadb = ChromaDB(vectordb_cfg=vectordb_cfg, debug=True)\n",
    "loader = load.PDFLoader(loader_cfg, debug=True)\n",
    "documents = loader(doc_path=document_path)\n",
    "chunker = chunk.RecursiveChunker(chunker_cfg=chunker_cfg, debug=True)\n",
    "chunker(documents, chromadb)"
   ]
  },
  {
   "cell_type": "code",
   "execution_count": 5,
   "metadata": {},
   "outputs": [
    {
     "name": "stdout",
     "output_type": "stream",
     "text": [
      "{'source': '../docs/TayXueHao-Resume.pdf', 'page': 0}\n",
      "{'source': '../docs/TayXueHao-Resume.pdf', 'page': 0}\n",
      "{'source': '../docs/TayXueHao-Resume.pdf', 'page': 0}\n",
      "{'source': '../docs/TayXueHao-Resume.pdf', 'page': 1}\n",
      "{'source': '../docs/TayXueHao-Resume.pdf', 'page': 1}\n",
      "{'source': '../docs/TayXueHao-Resume.pdf', 'page': 1}\n"
     ]
    }
   ],
   "source": [
    "for chunk in chunker.chunks:\n",
    "    print(chunk.metadata)"
   ]
  },
  {
   "cell_type": "markdown",
   "metadata": {},
   "source": [
    "### Query Documents"
   ]
  },
  {
   "cell_type": "code",
   "execution_count": 24,
   "metadata": {},
   "outputs": [],
   "source": [
    "from langchain.chains.combine_documents import create_stuff_documents_chain\n",
    "from langchain_core.prompts import ChatPromptTemplate\n",
    "\n",
    "prompt = ChatPromptTemplate.from_template(\"\"\"Answer the following question based only on the provided context:\n",
    "                                          <context>\n",
    "                                          {context}\n",
    "                                          </context>\n",
    "\n",
    "                                          Question: {input}\n",
    "                                          \"\"\")\n",
    "\n",
    "document_chain = create_stuff_documents_chain(llm, prompt)"
   ]
  },
  {
   "cell_type": "code",
   "execution_count": 25,
   "metadata": {},
   "outputs": [],
   "source": [
    "from langchain.chains import create_retrieval_chain\n",
    "\n",
    "vectordb = chromadb.vectordb\n",
    "retriever = vectordb.as_retriever()\n",
    "retrieval_chain = create_retrieval_chain(retriever, document_chain)"
   ]
  },
  {
   "cell_type": "markdown",
   "metadata": {},
   "source": [
    "- `retrieval_chain` retrieves contexts based on input\n",
    "- `document_chain` feeds these input to the prompt and llm"
   ]
  },
  {
   "cell_type": "code",
   "execution_count": 26,
   "metadata": {},
   "outputs": [
    {
     "name": "stdout",
     "output_type": "stream",
     "text": [
      "Xue Hao's interests include Reading, Gym Workout, Swimming, and Artificial\n",
      "Intelligence.\n"
     ]
    }
   ],
   "source": [
    "response = retrieval_chain.invoke({\"input\": \"What are Xue Hao's interests?\"})\n",
    "llm_response = textwrap.fill(response[\"answer\"], width=80)\n",
    "print(llm_response)"
   ]
  },
  {
   "cell_type": "markdown",
   "metadata": {},
   "source": [
    "Interestingly, it combines its knowledge about langsmith and the contexts given which is my resume."
   ]
  },
  {
   "cell_type": "markdown",
   "metadata": {},
   "source": [
    "### Advanced Retrieval: MultiQueryRetriever"
   ]
  },
  {
   "cell_type": "markdown",
   "metadata": {},
   "source": [
    "This retriever technique accepts the user's query and generate multiple related questions and retrieves documents for all the questions. We can reuse the chains declared from above, and only change the retriever method. This is the power of Langchain's abstraction."
   ]
  },
  {
   "cell_type": "code",
   "execution_count": 27,
   "metadata": {},
   "outputs": [],
   "source": [
    "from langchain.retrievers import MultiQueryRetriever\n",
    "\n",
    "advanced_retriever = MultiQueryRetriever.from_llm(retriever=retriever, llm=llm)"
   ]
  },
  {
   "cell_type": "code",
   "execution_count": 28,
   "metadata": {},
   "outputs": [],
   "source": [
    "retrieval_chain = create_retrieval_chain(advanced_retriever, document_chain)"
   ]
  },
  {
   "cell_type": "code",
   "execution_count": 29,
   "metadata": {},
   "outputs": [
    {
     "name": "stdout",
     "output_type": "stream",
     "text": [
      "Xue Hao's interests include Reading, Gym Workout, Swimming, and Artificial\n",
      "Intelligence.\n"
     ]
    }
   ],
   "source": [
    "response = retrieval_chain.invoke({\"input\": \"What are Xue Hao's interests?\"})\n",
    "llm_response = textwrap.fill(response[\"answer\"], width=80)\n",
    "print(llm_response)"
   ]
  },
  {
   "cell_type": "markdown",
   "metadata": {},
   "source": [
    "To understand more about langchain's retrievers, visit the link below. Langchain's documentation explains the different rypes of retrieval ypes they support, when to use them, description, and whether they use an llm or not.  \n",
    "- Langchain retriever documentation: https://python.langchain.com/v0.1/docs/modules/data_connection/retrievers/"
   ]
  }
 ],
 "metadata": {
  "kernelspec": {
   "display_name": "llm-base",
   "language": "python",
   "name": "python3"
  },
  "language_info": {
   "codemirror_mode": {
    "name": "ipython",
    "version": 3
   },
   "file_extension": ".py",
   "mimetype": "text/x-python",
   "name": "python",
   "nbconvert_exporter": "python",
   "pygments_lexer": "ipython3",
   "version": "3.11.9"
  }
 },
 "nbformat": 4,
 "nbformat_minor": 2
}
